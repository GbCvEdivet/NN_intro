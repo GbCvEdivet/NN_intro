{
 "cells": [
  {
   "cell_type": "code",
   "execution_count": 1,
   "id": "e9aaf81b",
   "metadata": {},
   "outputs": [],
   "source": [
    "from keras.datasets import fashion_mnist\n",
    "from keras.utils.vis_utils import plot_model\n",
    "from keras.layers import Dense\n",
    "from keras.models import Sequential\n",
    "from keras.utils.np_utils import to_categorical\n",
    "from keras.optimizers import SGD\n",
    "from keras.optimizers import RMSprop\n",
    "from keras.optimizers import Adam\n",
    "from sklearn.metrics import confusion_matrix\n",
    "import numpy as np\n",
    "import pandas as pd\n",
    "import matplotlib.pyplot as plt\n",
    "import seaborn as sn\n",
    "import tensorflow as tf\n",
    "import itertools\n",
    "\n",
    "%matplotlib inline"
   ]
  },
  {
   "cell_type": "code",
   "execution_count": 2,
   "id": "a697ae60",
   "metadata": {},
   "outputs": [],
   "source": [
    "tf.keras.utils.set_random_seed(42)"
   ]
  },
  {
   "cell_type": "code",
   "execution_count": 3,
   "id": "fcc2d647",
   "metadata": {},
   "outputs": [],
   "source": [
    "(X_train, y_train_labels), (X_test, y_test_labels) = fashion_mnist.load_data()"
   ]
  },
  {
   "cell_type": "code",
   "execution_count": 4,
   "id": "33800965",
   "metadata": {},
   "outputs": [
    {
     "name": "stdout",
     "output_type": "stream",
     "text": [
      "(60000, 28, 28)\n",
      "(10000, 28, 28)\n",
      "(60000,)\n",
      "(10000,)\n"
     ]
    }
   ],
   "source": [
    "print(X_train.shape, X_test.shape, y_train_labels.shape, y_test_labels.shape, sep='\\n')"
   ]
  },
  {
   "cell_type": "code",
   "execution_count": 5,
   "id": "799945f1",
   "metadata": {},
   "outputs": [
    {
     "name": "stdout",
     "output_type": "stream",
     "text": [
      "Label is 1\n"
     ]
    },
    {
     "data": {
      "image/png": "[encoded data removed]",
      "text/plain": [
       "<Figure size 640x480 with 1 Axes>"
      ]
     },
     "metadata": {},
     "output_type": "display_data"
    }
   ],
   "source": [
    "plt.imshow(X_train[4345])\n",
    "print(f'Label is {y_train_labels[4345]}')"
   ]
  },
  {
   "cell_type": "code",
   "execution_count": 6,
   "id": "fa7ac070",
   "metadata": {
    "scrolled": false
   },
   "outputs": [],
   "source": [
    "# нормализация\n",
    "X_train = X_train / 255\n",
    "X_test = X_test / 255"
   ]
  },
  {
   "cell_type": "code",
   "execution_count": 7,
   "id": "ebade6e7",
   "metadata": {},
   "outputs": [
    {
     "name": "stdout",
     "output_type": "stream",
     "text": [
      "0.0 1.0\n",
      "0.0 1.0\n"
     ]
    }
   ],
   "source": [
    "for i in [X_train, X_test]:\n",
    "    print(i.min(), i.max())"
   ]
  },
  {
   "cell_type": "code",
   "execution_count": 8,
   "id": "25442453",
   "metadata": {},
   "outputs": [
    {
     "data": {
      "text/plain": [
       "((60000, 784), (10000, 784))"
      ]
     },
     "execution_count": 8,
     "metadata": {},
     "output_type": "execute_result"
    }
   ],
   "source": [
    "X_train = X_train.reshape((-1, 784))\n",
    "X_test = X_test.reshape((-1, 784))\n",
    "\n",
    "X_train.shape, X_test.shape"
   ]
  },
  {
   "cell_type": "code",
   "execution_count": 9,
   "id": "66347b75",
   "metadata": {},
   "outputs": [
    {
     "data": {
      "text/plain": [
       "{0, 1, 2, 3, 4, 5, 6, 7, 8, 9}"
      ]
     },
     "execution_count": 9,
     "metadata": {},
     "output_type": "execute_result"
    }
   ],
   "source": [
    "set(y_train_labels)"
   ]
  },
  {
   "cell_type": "code",
   "execution_count": 10,
   "id": "7c75d2ec",
   "metadata": {},
   "outputs": [],
   "source": [
    "y_train = to_categorical(y_train_labels)\n",
    "y_test = to_categorical(y_test_labels)"
   ]
  },
  {
   "cell_type": "code",
   "execution_count": 11,
   "id": "9ac2f20d",
   "metadata": {},
   "outputs": [
    {
     "data": {
      "text/plain": [
       "array([[0., 0., 0., 0., 0., 0., 0., 0., 0., 1.],\n",
       "       [1., 0., 0., 0., 0., 0., 0., 0., 0., 0.],\n",
       "       [1., 0., 0., 0., 0., 0., 0., 0., 0., 0.],\n",
       "       [0., 0., 0., 1., 0., 0., 0., 0., 0., 0.],\n",
       "       [1., 0., 0., 0., 0., 0., 0., 0., 0., 0.]], dtype=float32)"
      ]
     },
     "execution_count": 11,
     "metadata": {},
     "output_type": "execute_result"
    }
   ],
   "source": [
    "y_train[:5]"
   ]
  },
  {
   "cell_type": "code",
   "execution_count": 12,
   "id": "29804f22",
   "metadata": {},
   "outputs": [],
   "source": [
    "model = Sequential([\n",
    "        Dense(98, input_shape=(28 * 28,), activation='selu'),\n",
    "        Dense(50, activation='selu'),\n",
    "        Dense(10, activation='sigmoid')\n",
    "    ])"
   ]
  },
  {
   "cell_type": "code",
   "execution_count": 13,
   "id": "3487a702",
   "metadata": {},
   "outputs": [
    {
     "name": "stdout",
     "output_type": "stream",
     "text": [
      "Model: \"sequential\"\n",
      "_________________________________________________________________\n",
      " Layer (type)                Output Shape              Param #   \n",
      "=================================================================\n",
      " dense (Dense)               (None, 98)                76930     \n",
      "                                                                 \n",
      " dense_1 (Dense)             (None, 50)                4950      \n",
      "                                                                 \n",
      " dense_2 (Dense)             (None, 10)                510       \n",
      "                                                                 \n",
      "=================================================================\n",
      "Total params: 82,390\n",
      "Trainable params: 82,390\n",
      "Non-trainable params: 0\n",
      "_________________________________________________________________\n"
     ]
    }
   ],
   "source": [
    "model.summary()"
   ]
  },
  {
   "cell_type": "code",
   "execution_count": 14,
   "id": "c9c5f6eb",
   "metadata": {},
   "outputs": [],
   "source": [
    "model.compile(loss='categorical_crossentropy', optimizer='SGD', metrics=['accuracy', 'Recall'])"
   ]
  },
  {
   "cell_type": "code",
   "execution_count": 15,
   "id": "19271065",
   "metadata": {
    "scrolled": true
   },
   "outputs": [
    {
     "name": "stdout",
     "output_type": "stream",
     "text": [
      "Epoch 1/10\n",
      "235/235 [==============================] - 5s 15ms/step - loss: 0.9637 - accuracy: 0.6819 - recall: 0.9789 - val_loss: 0.7173 - val_accuracy: 0.7570 - val_recall: 0.9936\n",
      "Epoch 2/10\n",
      "235/235 [==============================] - 2s 8ms/step - loss: 0.6376 - accuracy: 0.7871 - recall: 0.9947 - val_loss: 0.6140 - val_accuracy: 0.7931 - val_recall: 0.9954\n",
      "Epoch 3/10\n",
      "235/235 [==============================] - 2s 8ms/step - loss: 0.5651 - accuracy: 0.8082 - recall: 0.9959 - val_loss: 0.5716 - val_accuracy: 0.8008 - val_recall: 0.9958\n",
      "Epoch 4/10\n",
      "235/235 [==============================] - 2s 8ms/step - loss: 0.5272 - accuracy: 0.8193 - recall: 0.9966 - val_loss: 0.5437 - val_accuracy: 0.8102 - val_recall: 0.9962\n",
      "Epoch 5/10\n",
      "235/235 [==============================] - 2s 7ms/step - loss: 0.5033 - accuracy: 0.8268 - recall: 0.9969 - val_loss: 0.5261 - val_accuracy: 0.8173 - val_recall: 0.9967\n",
      "Epoch 6/10\n",
      "235/235 [==============================] - 2s 7ms/step - loss: 0.4862 - accuracy: 0.8309 - recall: 0.9971 - val_loss: 0.5152 - val_accuracy: 0.8201 - val_recall: 0.9970\n",
      "Epoch 7/10\n",
      "235/235 [==============================] - 2s 7ms/step - loss: 0.4735 - accuracy: 0.8350 - recall: 0.9971 - val_loss: 0.5107 - val_accuracy: 0.8181 - val_recall: 0.9969\n",
      "Epoch 8/10\n",
      "235/235 [==============================] - 2s 7ms/step - loss: 0.4625 - accuracy: 0.8386 - recall: 0.9973 - val_loss: 0.4892 - val_accuracy: 0.8299 - val_recall: 0.9975\n",
      "Epoch 9/10\n",
      "235/235 [==============================] - 2s 7ms/step - loss: 0.4536 - accuracy: 0.8416 - recall: 0.9976 - val_loss: 0.4851 - val_accuracy: 0.8291 - val_recall: 0.9976\n",
      "Epoch 10/10\n",
      "235/235 [==============================] - 2s 6ms/step - loss: 0.4464 - accuracy: 0.8442 - recall: 0.9977 - val_loss: 0.4802 - val_accuracy: 0.8338 - val_recall: 0.9978\n"
     ]
    }
   ],
   "source": [
    "var1 = model.fit(X_train, y_train,\n",
    "                    epochs=10,\n",
    "                    batch_size=256,\n",
    "                    validation_data=(X_test, y_test)\n",
    "                    )"
   ]
  },
  {
   "cell_type": "code",
   "execution_count": 16,
   "id": "8abaec4b",
   "metadata": {},
   "outputs": [
    {
     "data": {
      "text/plain": [
       "0.8442166447639465"
      ]
     },
     "execution_count": 16,
     "metadata": {},
     "output_type": "execute_result"
    }
   ],
   "source": [
    "var1.history['accuracy'][-1]"
   ]
  },
  {
   "cell_type": "code",
   "execution_count": 17,
   "id": "ac10bb3e",
   "metadata": {},
   "outputs": [
    {
     "data": {
      "text/plain": [
       "0.8338000178337097"
      ]
     },
     "execution_count": 17,
     "metadata": {},
     "output_type": "execute_result"
    }
   ],
   "source": [
    "var1.history['val_accuracy'][-1]"
   ]
  },
  {
   "cell_type": "code",
   "execution_count": 18,
   "id": "90f752fd",
   "metadata": {},
   "outputs": [
    {
     "data": {
      "text/plain": [
       "0.9977333545684814"
      ]
     },
     "execution_count": 18,
     "metadata": {},
     "output_type": "execute_result"
    }
   ],
   "source": [
    "var1.history['recall'][-1]"
   ]
  },
  {
   "cell_type": "code",
   "execution_count": 19,
   "id": "cba7ea87",
   "metadata": {},
   "outputs": [
    {
     "name": "stdout",
     "output_type": "stream",
     "text": [
      "1/1 [==============================] - 0s 444ms/step\n"
     ]
    }
   ],
   "source": [
    "var1_pred = model.predict(X_test[:5, :])"
   ]
  },
  {
   "cell_type": "code",
   "execution_count": 20,
   "id": "e6f47a0d",
   "metadata": {},
   "outputs": [
    {
     "data": {
      "text/plain": [
       "array([[5.3018034e-02, 3.8298942e-02, 1.1011117e-01, 3.8147364e-02,\n",
       "        1.1911156e-01, 9.9376589e-01, 1.1410966e-01, 9.9411815e-01,\n",
       "        8.8392323e-01, 9.9711937e-01],\n",
       "       [5.5842203e-01, 6.5433778e-02, 9.9916488e-01, 2.6881546e-01,\n",
       "        9.8573995e-01, 2.9588647e-02, 9.9666387e-01, 3.5877284e-04,\n",
       "        5.3758281e-01, 5.7409876e-03],\n",
       "       [9.7906685e-01, 9.9999237e-01, 6.3636917e-01, 8.6001712e-01,\n",
       "        9.2707896e-01, 6.1655972e-02, 5.5740360e-02, 4.6890742e-01,\n",
       "        4.0724581e-01, 3.4670990e-02],\n",
       "       [7.7676392e-01, 9.9998850e-01, 4.8758236e-01, 9.6750146e-01,\n",
       "        8.9995843e-01, 1.2822177e-01, 6.2980287e-02, 3.9609614e-01,\n",
       "        1.7391531e-01, 3.9338446e-01],\n",
       "       [9.6303260e-01, 2.8079697e-01, 9.4239843e-01, 7.1448433e-01,\n",
       "        6.7302656e-01, 7.0125856e-02, 9.8586196e-01, 4.5887339e-03,\n",
       "        2.5806692e-01, 6.0670931e-02]], dtype=float32)"
      ]
     },
     "execution_count": 20,
     "metadata": {},
     "output_type": "execute_result"
    }
   ],
   "source": [
    "var1_pred"
   ]
  },
  {
   "cell_type": "code",
   "execution_count": 21,
   "id": "ec30a078",
   "metadata": {},
   "outputs": [
    {
     "data": {
      "text/plain": [
       "array([9, 2, 1, 1, 6], dtype=int64)"
      ]
     },
     "execution_count": 21,
     "metadata": {},
     "output_type": "execute_result"
    }
   ],
   "source": [
    "var1_pred_classes = np.argmax(var1_pred, axis=1)\n",
    "var1_pred_classes"
   ]
  },
  {
   "cell_type": "code",
   "execution_count": 22,
   "id": "b6f5fbc3",
   "metadata": {},
   "outputs": [
    {
     "data": {
      "text/plain": [
       "array([9, 2, 1, 1, 6], dtype=uint8)"
      ]
     },
     "execution_count": 22,
     "metadata": {},
     "output_type": "execute_result"
    }
   ],
   "source": [
    "y_test_labels[:5]"
   ]
  },
  {
   "cell_type": "code",
   "execution_count": 24,
   "id": "a2cd8e19",
   "metadata": {},
   "outputs": [
    {
     "name": "stdout",
     "output_type": "stream",
     "text": [
      "235/235 [==============================] - 1s 5ms/step - loss: 0.4450 - accuracy: 0.8440 - recall: 0.9979\n"
     ]
    },
    {
     "data": {
      "text/plain": [
       "[0.44498762488365173, 0.8439666628837585, 0.9978500008583069]"
      ]
     },
     "execution_count": 24,
     "metadata": {},
     "output_type": "execute_result"
    }
   ],
   "source": [
    "model.evaluate(X_train, y_train, batch_size=256)"
   ]
  },
  {
   "cell_type": "code",
   "execution_count": 23,
   "id": "7bcaaf39",
   "metadata": {},
   "outputs": [
    {
     "name": "stdout",
     "output_type": "stream",
     "text": [
      "40/40 [==============================] - 0s 6ms/step - loss: 0.4802 - accuracy: 0.8338 - recall: 0.9978\n"
     ]
    },
    {
     "data": {
      "text/plain": [
       "[0.4801642596721649, 0.8338000178337097, 0.9977999925613403]"
      ]
     },
     "execution_count": 23,
     "metadata": {},
     "output_type": "execute_result"
    }
   ],
   "source": [
    "model.evaluate(X_test, y_test, batch_size=256)"
   ]
  },
  {
   "cell_type": "markdown",
   "id": "522896be",
   "metadata": {},
   "source": [
    "# Зависимость результата от количества нейронов в слое (при двухслойном исполнении)"
   ]
  },
  {
   "cell_type": "code",
   "execution_count": 74,
   "id": "fe46c490",
   "metadata": {},
   "outputs": [],
   "source": [
    "result_dict = {\n",
    "    'n_neurons': [],\n",
    "    'n_layers': [],\n",
    "    'train_loss': [],\n",
    "    'train_accuracy': [],\n",
    "    'test_loss': [],\n",
    "    'test_accuracy': []\n",
    "}"
   ]
  },
  {
   "cell_type": "code",
   "execution_count": 75,
   "id": "6775bf4f",
   "metadata": {},
   "outputs": [],
   "source": [
    "def train_model_n_neur(n_neur):\n",
    "    result_dict['n_neurons'].append(n_neur)\n",
    "    result_dict['n_layers'].append(2)\n",
    "    model = Sequential([\n",
    "        Dense(98, input_shape=(784,), activation='selu'),\n",
    "        Dense(n_neur, activation='selu'),\n",
    "        Dense(10, activation='sigmoid')\n",
    "    ])\n",
    "    model.compile(loss='categorical_crossentropy', optimizer='SGD', metrics=['accuracy'])\n",
    "    \n",
    "    variant = model.fit(X_train, y_train,\n",
    "                    epochs=10,   \n",
    "                    batch_size=256,\n",
    "                    verbose=0,\n",
    "                    validation_data=(X_test, y_test)\n",
    "                    )\n",
    "    \n",
    "    train_loss, train_metric = model.evaluate(X_train, y_train, batch_size=256)\n",
    "    result_dict['train_loss'].append(train_loss)\n",
    "    result_dict['train_accuracy'].append(train_metric)\n",
    "    test_loss, test_metric = model.evaluate(X_test, y_test, batch_size=256)\n",
    "    result_dict['test_loss'].append(test_loss)\n",
    "    result_dict['test_accuracy'].append(test_metric)"
   ]
  },
  {
   "cell_type": "code",
   "execution_count": 76,
   "id": "9636acac",
   "metadata": {
    "scrolled": true
   },
   "outputs": [
    {
     "name": "stdout",
     "output_type": "stream",
     "text": [
      "235/235 [==============================] - 1s 4ms/step - loss: 1.5608 - accuracy: 0.3433\n",
      "40/40 [==============================] - 0s 4ms/step - loss: 1.5657 - accuracy: 0.3418\n",
      "235/235 [==============================] - 1s 4ms/step - loss: 1.2265 - accuracy: 0.5127\n",
      "40/40 [==============================] - 0s 4ms/step - loss: 1.2421 - accuracy: 0.5116\n",
      "235/235 [==============================] - 1s 4ms/step - loss: 0.5815 - accuracy: 0.7952\n",
      "40/40 [==============================] - 0s 4ms/step - loss: 0.5997 - accuracy: 0.7886\n",
      "235/235 [==============================] - 1s 4ms/step - loss: 0.4801 - accuracy: 0.8335\n",
      "40/40 [==============================] - 0s 4ms/step - loss: 0.5096 - accuracy: 0.8239\n",
      "235/235 [==============================] - 1s 4ms/step - loss: 0.4612 - accuracy: 0.8367\n",
      "40/40 [==============================] - 0s 4ms/step - loss: 0.4915 - accuracy: 0.8245\n",
      "235/235 [==============================] - 1s 4ms/step - loss: 0.4534 - accuracy: 0.8397\n",
      "40/40 [==============================] - 0s 4ms/step - loss: 0.4879 - accuracy: 0.8264\n",
      "235/235 [==============================] - 1s 4ms/step - loss: 0.4408 - accuracy: 0.8448\n",
      "40/40 [==============================] - 0s 4ms/step - loss: 0.4754 - accuracy: 0.8315\n",
      "235/235 [==============================] - 1s 5ms/step - loss: 0.4415 - accuracy: 0.8451\n",
      "40/40 [==============================] - 0s 5ms/step - loss: 0.4754 - accuracy: 0.8299\n",
      "235/235 [==============================] - 1s 5ms/step - loss: 0.4464 - accuracy: 0.8419\n",
      "40/40 [==============================] - 0s 5ms/step - loss: 0.4780 - accuracy: 0.8293\n",
      "235/235 [==============================] - 1s 6ms/step - loss: 0.4415 - accuracy: 0.8450\n",
      "40/40 [==============================] - 0s 6ms/step - loss: 0.4743 - accuracy: 0.8316\n"
     ]
    }
   ],
   "source": [
    "for i in [2**x for x in range(10)]:\n",
    "    train_model_n_neur(i)"
   ]
  },
  {
   "cell_type": "code",
   "execution_count": 77,
   "id": "01fecef1",
   "metadata": {},
   "outputs": [],
   "source": [
    "result_dataframe = pd.DataFrame(result_dict)"
   ]
  },
  {
   "cell_type": "code",
   "execution_count": 78,
   "id": "ba84dd1d",
   "metadata": {},
   "outputs": [
    {
     "data": {
      "text/html": [
       "<div>\n",
       "<style scoped>\n",
       "    .dataframe tbody tr th:only-of-type {\n",
       "        vertical-align: middle;\n",
       "    }\n",
       "\n",
       "    .dataframe tbody tr th {\n",
       "        vertical-align: top;\n",
       "    }\n",
       "\n",
       "    .dataframe thead th {\n",
       "        text-align: right;\n",
       "    }\n",
       "</style>\n",
       "<table border=\"1\" class=\"dataframe\">\n",
       "  <thead>\n",
       "    <tr style=\"text-align: right;\">\n",
       "      <th></th>\n",
       "      <th>n_neurons</th>\n",
       "      <th>n_layers</th>\n",
       "      <th>train_loss</th>\n",
       "      <th>train_accuracy</th>\n",
       "      <th>test_loss</th>\n",
       "      <th>test_accuracy</th>\n",
       "    </tr>\n",
       "  </thead>\n",
       "  <tbody>\n",
       "    <tr>\n",
       "      <th>0</th>\n",
       "      <td>1</td>\n",
       "      <td>2</td>\n",
       "      <td>1.560816</td>\n",
       "      <td>0.343333</td>\n",
       "      <td>1.565705</td>\n",
       "      <td>0.3418</td>\n",
       "    </tr>\n",
       "    <tr>\n",
       "      <th>1</th>\n",
       "      <td>2</td>\n",
       "      <td>2</td>\n",
       "      <td>1.226547</td>\n",
       "      <td>0.512667</td>\n",
       "      <td>1.242139</td>\n",
       "      <td>0.5116</td>\n",
       "    </tr>\n",
       "    <tr>\n",
       "      <th>2</th>\n",
       "      <td>4</td>\n",
       "      <td>2</td>\n",
       "      <td>0.581515</td>\n",
       "      <td>0.795200</td>\n",
       "      <td>0.599688</td>\n",
       "      <td>0.7886</td>\n",
       "    </tr>\n",
       "    <tr>\n",
       "      <th>3</th>\n",
       "      <td>8</td>\n",
       "      <td>2</td>\n",
       "      <td>0.480135</td>\n",
       "      <td>0.833550</td>\n",
       "      <td>0.509591</td>\n",
       "      <td>0.8239</td>\n",
       "    </tr>\n",
       "    <tr>\n",
       "      <th>4</th>\n",
       "      <td>16</td>\n",
       "      <td>2</td>\n",
       "      <td>0.461178</td>\n",
       "      <td>0.836650</td>\n",
       "      <td>0.491480</td>\n",
       "      <td>0.8245</td>\n",
       "    </tr>\n",
       "    <tr>\n",
       "      <th>5</th>\n",
       "      <td>32</td>\n",
       "      <td>2</td>\n",
       "      <td>0.453445</td>\n",
       "      <td>0.839700</td>\n",
       "      <td>0.487880</td>\n",
       "      <td>0.8264</td>\n",
       "    </tr>\n",
       "    <tr>\n",
       "      <th>6</th>\n",
       "      <td>64</td>\n",
       "      <td>2</td>\n",
       "      <td>0.440845</td>\n",
       "      <td>0.844833</td>\n",
       "      <td>0.475377</td>\n",
       "      <td>0.8315</td>\n",
       "    </tr>\n",
       "    <tr>\n",
       "      <th>7</th>\n",
       "      <td>128</td>\n",
       "      <td>2</td>\n",
       "      <td>0.441502</td>\n",
       "      <td>0.845117</td>\n",
       "      <td>0.475360</td>\n",
       "      <td>0.8299</td>\n",
       "    </tr>\n",
       "    <tr>\n",
       "      <th>8</th>\n",
       "      <td>256</td>\n",
       "      <td>2</td>\n",
       "      <td>0.446353</td>\n",
       "      <td>0.841883</td>\n",
       "      <td>0.478000</td>\n",
       "      <td>0.8293</td>\n",
       "    </tr>\n",
       "    <tr>\n",
       "      <th>9</th>\n",
       "      <td>512</td>\n",
       "      <td>2</td>\n",
       "      <td>0.441511</td>\n",
       "      <td>0.844967</td>\n",
       "      <td>0.474327</td>\n",
       "      <td>0.8316</td>\n",
       "    </tr>\n",
       "  </tbody>\n",
       "</table>\n",
       "</div>"
      ],
      "text/plain": [
       "   n_neurons  n_layers  train_loss  train_accuracy  test_loss  test_accuracy\n",
       "0          1         2    1.560816        0.343333   1.565705         0.3418\n",
       "1          2         2    1.226547        0.512667   1.242139         0.5116\n",
       "2          4         2    0.581515        0.795200   0.599688         0.7886\n",
       "3          8         2    0.480135        0.833550   0.509591         0.8239\n",
       "4         16         2    0.461178        0.836650   0.491480         0.8245\n",
       "5         32         2    0.453445        0.839700   0.487880         0.8264\n",
       "6         64         2    0.440845        0.844833   0.475377         0.8315\n",
       "7        128         2    0.441502        0.845117   0.475360         0.8299\n",
       "8        256         2    0.446353        0.841883   0.478000         0.8293\n",
       "9        512         2    0.441511        0.844967   0.474327         0.8316"
      ]
     },
     "execution_count": 78,
     "metadata": {},
     "output_type": "execute_result"
    }
   ],
   "source": [
    "result_dataframe"
   ]
  },
  {
   "cell_type": "code",
   "execution_count": 79,
   "id": "348d4dc5",
   "metadata": {},
   "outputs": [
    {
     "data": {
      "image/png": "[encoded data removed]",
      "text/plain": [
       "<Figure size 1600x500 with 1 Axes>"
      ]
     },
     "metadata": {},
     "output_type": "display_data"
    }
   ],
   "source": [
    "plt.figure(figsize=(16, 5))\n",
    "plt.plot(result_dict['n_neurons'], result_dict['train_accuracy'], label='train')\n",
    "plt.plot(result_dict['n_neurons'], result_dict['test_accuracy'], label='test')\n",
    "plt.xlabel('Число нейронов скрытого слоя')\n",
    "plt.ylabel('Accuracy')\n",
    "plt.legend()\n",
    "plt.show()"
   ]
  },
  {
   "cell_type": "code",
   "execution_count": 80,
   "id": "f11cbd9d",
   "metadata": {},
   "outputs": [
    {
     "data": {
      "text/html": [
       "<div>\n",
       "<style scoped>\n",
       "    .dataframe tbody tr th:only-of-type {\n",
       "        vertical-align: middle;\n",
       "    }\n",
       "\n",
       "    .dataframe tbody tr th {\n",
       "        vertical-align: top;\n",
       "    }\n",
       "\n",
       "    .dataframe thead th {\n",
       "        text-align: right;\n",
       "    }\n",
       "</style>\n",
       "<table border=\"1\" class=\"dataframe\">\n",
       "  <thead>\n",
       "    <tr style=\"text-align: right;\">\n",
       "      <th></th>\n",
       "      <th>n_neurons</th>\n",
       "      <th>n_layers</th>\n",
       "      <th>train_loss</th>\n",
       "      <th>train_accuracy</th>\n",
       "      <th>test_loss</th>\n",
       "      <th>test_accuracy</th>\n",
       "    </tr>\n",
       "  </thead>\n",
       "  <tbody>\n",
       "    <tr>\n",
       "      <th>9</th>\n",
       "      <td>512</td>\n",
       "      <td>2</td>\n",
       "      <td>0.441511</td>\n",
       "      <td>0.844967</td>\n",
       "      <td>0.474327</td>\n",
       "      <td>0.8316</td>\n",
       "    </tr>\n",
       "    <tr>\n",
       "      <th>6</th>\n",
       "      <td>64</td>\n",
       "      <td>2</td>\n",
       "      <td>0.440845</td>\n",
       "      <td>0.844833</td>\n",
       "      <td>0.475377</td>\n",
       "      <td>0.8315</td>\n",
       "    </tr>\n",
       "    <tr>\n",
       "      <th>7</th>\n",
       "      <td>128</td>\n",
       "      <td>2</td>\n",
       "      <td>0.441502</td>\n",
       "      <td>0.845117</td>\n",
       "      <td>0.475360</td>\n",
       "      <td>0.8299</td>\n",
       "    </tr>\n",
       "    <tr>\n",
       "      <th>8</th>\n",
       "      <td>256</td>\n",
       "      <td>2</td>\n",
       "      <td>0.446353</td>\n",
       "      <td>0.841883</td>\n",
       "      <td>0.478000</td>\n",
       "      <td>0.8293</td>\n",
       "    </tr>\n",
       "    <tr>\n",
       "      <th>5</th>\n",
       "      <td>32</td>\n",
       "      <td>2</td>\n",
       "      <td>0.453445</td>\n",
       "      <td>0.839700</td>\n",
       "      <td>0.487880</td>\n",
       "      <td>0.8264</td>\n",
       "    </tr>\n",
       "    <tr>\n",
       "      <th>4</th>\n",
       "      <td>16</td>\n",
       "      <td>2</td>\n",
       "      <td>0.461178</td>\n",
       "      <td>0.836650</td>\n",
       "      <td>0.491480</td>\n",
       "      <td>0.8245</td>\n",
       "    </tr>\n",
       "    <tr>\n",
       "      <th>3</th>\n",
       "      <td>8</td>\n",
       "      <td>2</td>\n",
       "      <td>0.480135</td>\n",
       "      <td>0.833550</td>\n",
       "      <td>0.509591</td>\n",
       "      <td>0.8239</td>\n",
       "    </tr>\n",
       "    <tr>\n",
       "      <th>2</th>\n",
       "      <td>4</td>\n",
       "      <td>2</td>\n",
       "      <td>0.581515</td>\n",
       "      <td>0.795200</td>\n",
       "      <td>0.599688</td>\n",
       "      <td>0.7886</td>\n",
       "    </tr>\n",
       "    <tr>\n",
       "      <th>1</th>\n",
       "      <td>2</td>\n",
       "      <td>2</td>\n",
       "      <td>1.226547</td>\n",
       "      <td>0.512667</td>\n",
       "      <td>1.242139</td>\n",
       "      <td>0.5116</td>\n",
       "    </tr>\n",
       "    <tr>\n",
       "      <th>0</th>\n",
       "      <td>1</td>\n",
       "      <td>2</td>\n",
       "      <td>1.560816</td>\n",
       "      <td>0.343333</td>\n",
       "      <td>1.565705</td>\n",
       "      <td>0.3418</td>\n",
       "    </tr>\n",
       "  </tbody>\n",
       "</table>\n",
       "</div>"
      ],
      "text/plain": [
       "   n_neurons  n_layers  train_loss  train_accuracy  test_loss  test_accuracy\n",
       "9        512         2    0.441511        0.844967   0.474327         0.8316\n",
       "6         64         2    0.440845        0.844833   0.475377         0.8315\n",
       "7        128         2    0.441502        0.845117   0.475360         0.8299\n",
       "8        256         2    0.446353        0.841883   0.478000         0.8293\n",
       "5         32         2    0.453445        0.839700   0.487880         0.8264\n",
       "4         16         2    0.461178        0.836650   0.491480         0.8245\n",
       "3          8         2    0.480135        0.833550   0.509591         0.8239\n",
       "2          4         2    0.581515        0.795200   0.599688         0.7886\n",
       "1          2         2    1.226547        0.512667   1.242139         0.5116\n",
       "0          1         2    1.560816        0.343333   1.565705         0.3418"
      ]
     },
     "execution_count": 80,
     "metadata": {},
     "output_type": "execute_result"
    }
   ],
   "source": [
    "result_dataframe.sort_values('test_accuracy', ascending=False)"
   ]
  },
  {
   "cell_type": "markdown",
   "id": "0ad74162",
   "metadata": {},
   "source": [
    "Видимо оптимально что-то около 64 нейронов на скрытом слое. Не вижу большого смысла гонять в разы больше параметров при улучшении результата в тесте на одну десятитысячную. "
   ]
  },
  {
   "cell_type": "markdown",
   "id": "17a28263",
   "metadata": {},
   "source": [
    "# Зависимость от количестива скрытых слоев"
   ]
  },
  {
   "cell_type": "code",
   "execution_count": 86,
   "id": "97ae0a5a",
   "metadata": {},
   "outputs": [],
   "source": [
    "def train_model_n_layers(n_layers):\n",
    "    layers_neurons_dict = {2:512, 3:162, 5:101, 10:64}\n",
    "    n_neur = layers_neurons_dict[n_layers]\n",
    "    result_dict['n_neurons'].append(n_neur)\n",
    "    result_dict['n_layers'].append(n_layers)\n",
    "    model = Sequential()\n",
    "    model.add(Dense(98, input_shape=(784,), activation='selu'))\n",
    "    for i in range(n_layers - 1):\n",
    "        model.add(Dense(n_neur, activation='selu'))\n",
    "    model.add(Dense(10, activation='sigmoid'))\n",
    "    \n",
    "    model.compile(loss='categorical_crossentropy', optimizer='SGD', metrics=['accuracy'])\n",
    "    \n",
    "    variant = model.fit(X_train, y_train,\n",
    "                    epochs=10,  \n",
    "                    batch_size=256,\n",
    "                    verbose=0,\n",
    "                    validation_data=(X_test, y_test)\n",
    "                    )\n",
    "    \n",
    "    train_loss, train_metric = model.evaluate(X_train, y_train, batch_size=256)\n",
    "    result_dict['train_loss'].append(train_loss)\n",
    "    result_dict['train_accuracy'].append(train_metric)\n",
    "    test_loss, test_metric = model.evaluate(X_test, y_test, batch_size=256)\n",
    "    result_dict['test_loss'].append(test_loss)\n",
    "    result_dict['test_accuracy'].append(test_metric)"
   ]
  },
  {
   "cell_type": "code",
   "execution_count": 87,
   "id": "771a2039",
   "metadata": {},
   "outputs": [
    {
     "name": "stdout",
     "output_type": "stream",
     "text": [
      "235/235 [==============================] - 1s 5ms/step - loss: 0.4435 - accuracy: 0.8443\n",
      "40/40 [==============================] - 0s 5ms/step - loss: 0.4763 - accuracy: 0.8311\n",
      "235/235 [==============================] - 1s 5ms/step - loss: 0.4212 - accuracy: 0.8496\n",
      "40/40 [==============================] - 0s 5ms/step - loss: 0.4597 - accuracy: 0.8380\n",
      "235/235 [==============================] - 1s 6ms/step - loss: 0.3965 - accuracy: 0.8569\n",
      "40/40 [==============================] - 0s 6ms/step - loss: 0.4410 - accuracy: 0.8406\n",
      "235/235 [==============================] - 2s 7ms/step - loss: 0.3572 - accuracy: 0.8694\n",
      "40/40 [==============================] - 0s 6ms/step - loss: 0.4151 - accuracy: 0.8480\n"
     ]
    }
   ],
   "source": [
    "for i in [2, 3, 5, 10]:\n",
    "    train_model_n_layers(i)"
   ]
  },
  {
   "cell_type": "code",
   "execution_count": 88,
   "id": "84d77346",
   "metadata": {},
   "outputs": [],
   "source": [
    "result_dataframe = pd.DataFrame(result_dict)\n"
   ]
  },
  {
   "cell_type": "code",
   "execution_count": 92,
   "id": "8de6b40a",
   "metadata": {},
   "outputs": [
    {
     "data": {
      "text/html": [
       "<div>\n",
       "<style scoped>\n",
       "    .dataframe tbody tr th:only-of-type {\n",
       "        vertical-align: middle;\n",
       "    }\n",
       "\n",
       "    .dataframe tbody tr th {\n",
       "        vertical-align: top;\n",
       "    }\n",
       "\n",
       "    .dataframe thead th {\n",
       "        text-align: right;\n",
       "    }\n",
       "</style>\n",
       "<table border=\"1\" class=\"dataframe\">\n",
       "  <thead>\n",
       "    <tr style=\"text-align: right;\">\n",
       "      <th></th>\n",
       "      <th>n_neurons</th>\n",
       "      <th>n_layers</th>\n",
       "      <th>train_loss</th>\n",
       "      <th>train_accuracy</th>\n",
       "      <th>test_loss</th>\n",
       "      <th>test_accuracy</th>\n",
       "    </tr>\n",
       "  </thead>\n",
       "  <tbody>\n",
       "    <tr>\n",
       "      <th>10</th>\n",
       "      <td>512</td>\n",
       "      <td>2</td>\n",
       "      <td>0.443541</td>\n",
       "      <td>0.844250</td>\n",
       "      <td>0.476262</td>\n",
       "      <td>0.8311</td>\n",
       "    </tr>\n",
       "    <tr>\n",
       "      <th>11</th>\n",
       "      <td>162</td>\n",
       "      <td>3</td>\n",
       "      <td>0.421153</td>\n",
       "      <td>0.849550</td>\n",
       "      <td>0.459716</td>\n",
       "      <td>0.8380</td>\n",
       "    </tr>\n",
       "    <tr>\n",
       "      <th>12</th>\n",
       "      <td>101</td>\n",
       "      <td>5</td>\n",
       "      <td>0.396493</td>\n",
       "      <td>0.856917</td>\n",
       "      <td>0.440970</td>\n",
       "      <td>0.8406</td>\n",
       "    </tr>\n",
       "    <tr>\n",
       "      <th>13</th>\n",
       "      <td>64</td>\n",
       "      <td>10</td>\n",
       "      <td>0.357161</td>\n",
       "      <td>0.869450</td>\n",
       "      <td>0.415069</td>\n",
       "      <td>0.8480</td>\n",
       "    </tr>\n",
       "  </tbody>\n",
       "</table>\n",
       "</div>"
      ],
      "text/plain": [
       "    n_neurons  n_layers  train_loss  train_accuracy  test_loss  test_accuracy\n",
       "10        512         2    0.443541        0.844250   0.476262         0.8311\n",
       "11        162         3    0.421153        0.849550   0.459716         0.8380\n",
       "12        101         5    0.396493        0.856917   0.440970         0.8406\n",
       "13         64        10    0.357161        0.869450   0.415069         0.8480"
      ]
     },
     "execution_count": 92,
     "metadata": {},
     "output_type": "execute_result"
    }
   ],
   "source": [
    "result_dataframe.tail(4)"
   ]
  },
  {
   "cell_type": "code",
   "execution_count": 91,
   "id": "38ca201e",
   "metadata": {},
   "outputs": [],
   "source": [
    "different_n_layers = result_dataframe.tail(4)"
   ]
  },
  {
   "cell_type": "code",
   "execution_count": 93,
   "id": "096e60bf",
   "metadata": {},
   "outputs": [
    {
     "data": {
      "image/png": "[encoded data removed]",
      "text/plain": [
       "<Figure size 1600x500 with 1 Axes>"
      ]
     },
     "metadata": {},
     "output_type": "display_data"
    }
   ],
   "source": [
    "plt.figure(figsize=(16, 5))\n",
    "plt.plot(different_n_layers['n_layers'], different_n_layers['train_accuracy'], label='train')\n",
    "plt.plot(different_n_layers['n_layers'], different_n_layers['test_accuracy'], label='test')\n",
    "plt.xlabel('Число скрытых слоев')\n",
    "plt.ylabel('Accuracy')\n",
    "plt.legend()\n",
    "plt.show()"
   ]
  },
  {
   "cell_type": "markdown",
   "id": "f97182a7",
   "metadata": {},
   "source": [
    "# Проба разных оптимизаторов"
   ]
  },
  {
   "cell_type": "code",
   "execution_count": 105,
   "id": "663bb920",
   "metadata": {},
   "outputs": [],
   "source": [
    "different_optimizers_result_dict = {\n",
    "    'optimizer': [],\n",
    "    'train_loss': [],\n",
    "    'train_accuracy': [],\n",
    "    'test_loss': [],\n",
    "    'test_accuracy': []    \n",
    "}"
   ]
  },
  {
   "cell_type": "code",
   "execution_count": 106,
   "id": "6c69327c",
   "metadata": {},
   "outputs": [],
   "source": [
    "optimizers_list = ['SGD', 'RMSprop', 'Adam', 'Adadelta', 'Adagrad', 'Adamax', 'Nadam', 'Ftrl']"
   ]
  },
  {
   "cell_type": "code",
   "execution_count": 107,
   "id": "ca81c53d",
   "metadata": {},
   "outputs": [],
   "source": [
    "model = Sequential([\n",
    "        Dense(98, input_shape=(784,), activation='selu'),\n",
    "        Dense(64, activation='selu'),\n",
    "        Dense(10, activation='sigmoid')\n",
    "    ])"
   ]
  },
  {
   "cell_type": "code",
   "execution_count": 108,
   "id": "ab3b7e69",
   "metadata": {},
   "outputs": [],
   "source": [
    "model.save_weights('model_weights.h5')"
   ]
  },
  {
   "cell_type": "code",
   "execution_count": 109,
   "id": "46687f58",
   "metadata": {},
   "outputs": [
    {
     "name": "stdout",
     "output_type": "stream",
     "text": [
      "235/235 [==============================] - 1s 4ms/step - loss: 0.4433 - accuracy: 0.8437\n",
      "40/40 [==============================] - 0s 4ms/step - loss: 0.4770 - accuracy: 0.8330\n",
      "235/235 [==============================] - 1s 4ms/step - loss: 0.3079 - accuracy: 0.8839\n",
      "40/40 [==============================] - 0s 4ms/step - loss: 0.3816 - accuracy: 0.8594\n",
      "235/235 [==============================] - 1s 5ms/step - loss: 0.2644 - accuracy: 0.9038\n",
      "40/40 [==============================] - 0s 5ms/step - loss: 0.3423 - accuracy: 0.8772\n",
      "235/235 [==============================] - 1s 5ms/step - loss: 1.3063 - accuracy: 0.6147\n",
      "40/40 [==============================] - 0s 5ms/step - loss: 1.3132 - accuracy: 0.6096\n",
      "235/235 [==============================] - 1s 5ms/step - loss: 0.5519 - accuracy: 0.8141\n",
      "40/40 [==============================] - 0s 5ms/step - loss: 0.5761 - accuracy: 0.8046\n",
      "235/235 [==============================] - 1s 5ms/step - loss: 0.3236 - accuracy: 0.8848\n",
      "40/40 [==============================] - 0s 5ms/step - loss: 0.3811 - accuracy: 0.8641\n",
      "235/235 [==============================] - 1s 5ms/step - loss: 0.2905 - accuracy: 0.8913\n",
      "40/40 [==============================] - 0s 5ms/step - loss: 0.3715 - accuracy: 0.8655\n",
      "235/235 [==============================] - 1s 5ms/step - loss: 2.3026 - accuracy: 0.1000\n",
      "40/40 [==============================] - 0s 5ms/step - loss: 2.3026 - accuracy: 0.1000\n"
     ]
    }
   ],
   "source": [
    "for optimizer in optimizers_list:\n",
    "    different_optimizers_result_dict['optimizer'].append(optimizer)\n",
    "    model = Sequential([\n",
    "        Dense(98, input_shape=(784,), activation='selu'),\n",
    "        Dense(64, activation='selu'),\n",
    "        Dense(10, activation='sigmoid')\n",
    "    ])\n",
    "    model.load_weights('model_weights.h5')\n",
    "    model.compile(loss='categorical_crossentropy', optimizer=optimizer, metrics=['accuracy'])\n",
    "    variant = model.fit(X_train, y_train,\n",
    "                epochs=10,  \n",
    "                batch_size=256,\n",
    "                verbose=0,\n",
    "                validation_data=(X_test, y_test)\n",
    "                )\n",
    "    train_loss, train_metric = model.evaluate(X_train, y_train, batch_size=256)\n",
    "    different_optimizers_result_dict['train_loss'].append(train_loss)\n",
    "    different_optimizers_result_dict['train_accuracy'].append(train_metric)\n",
    "    test_loss, test_metric = model.evaluate(X_test, y_test, batch_size=256)\n",
    "    different_optimizers_result_dict['test_loss'].append(test_loss)\n",
    "    different_optimizers_result_dict['test_accuracy'].append(test_metric)\n",
    "    "
   ]
  },
  {
   "cell_type": "code",
   "execution_count": 112,
   "id": "27a4c3a4",
   "metadata": {},
   "outputs": [],
   "source": [
    "different_optimizers_result_df = pd.DataFrame(different_optimizers_result_dict)"
   ]
  },
  {
   "cell_type": "code",
   "execution_count": 116,
   "id": "c7d879ff",
   "metadata": {},
   "outputs": [
    {
     "data": {
      "text/html": [
       "<div>\n",
       "<style scoped>\n",
       "    .dataframe tbody tr th:only-of-type {\n",
       "        vertical-align: middle;\n",
       "    }\n",
       "\n",
       "    .dataframe tbody tr th {\n",
       "        vertical-align: top;\n",
       "    }\n",
       "\n",
       "    .dataframe thead th {\n",
       "        text-align: right;\n",
       "    }\n",
       "</style>\n",
       "<table border=\"1\" class=\"dataframe\">\n",
       "  <thead>\n",
       "    <tr style=\"text-align: right;\">\n",
       "      <th></th>\n",
       "      <th>optimizer</th>\n",
       "      <th>train_loss</th>\n",
       "      <th>train_accuracy</th>\n",
       "      <th>test_loss</th>\n",
       "      <th>test_accuracy</th>\n",
       "    </tr>\n",
       "  </thead>\n",
       "  <tbody>\n",
       "    <tr>\n",
       "      <th>2</th>\n",
       "      <td>Adam</td>\n",
       "      <td>0.264361</td>\n",
       "      <td>0.903750</td>\n",
       "      <td>0.342344</td>\n",
       "      <td>0.8772</td>\n",
       "    </tr>\n",
       "    <tr>\n",
       "      <th>6</th>\n",
       "      <td>Nadam</td>\n",
       "      <td>0.290486</td>\n",
       "      <td>0.891350</td>\n",
       "      <td>0.371544</td>\n",
       "      <td>0.8655</td>\n",
       "    </tr>\n",
       "    <tr>\n",
       "      <th>5</th>\n",
       "      <td>Adamax</td>\n",
       "      <td>0.323624</td>\n",
       "      <td>0.884767</td>\n",
       "      <td>0.381149</td>\n",
       "      <td>0.8641</td>\n",
       "    </tr>\n",
       "    <tr>\n",
       "      <th>1</th>\n",
       "      <td>RMSprop</td>\n",
       "      <td>0.307876</td>\n",
       "      <td>0.883867</td>\n",
       "      <td>0.381578</td>\n",
       "      <td>0.8594</td>\n",
       "    </tr>\n",
       "    <tr>\n",
       "      <th>0</th>\n",
       "      <td>SGD</td>\n",
       "      <td>0.443291</td>\n",
       "      <td>0.843700</td>\n",
       "      <td>0.477039</td>\n",
       "      <td>0.8330</td>\n",
       "    </tr>\n",
       "    <tr>\n",
       "      <th>4</th>\n",
       "      <td>Adagrad</td>\n",
       "      <td>0.551882</td>\n",
       "      <td>0.814100</td>\n",
       "      <td>0.576113</td>\n",
       "      <td>0.8046</td>\n",
       "    </tr>\n",
       "    <tr>\n",
       "      <th>3</th>\n",
       "      <td>Adadelta</td>\n",
       "      <td>1.306314</td>\n",
       "      <td>0.614733</td>\n",
       "      <td>1.313165</td>\n",
       "      <td>0.6096</td>\n",
       "    </tr>\n",
       "    <tr>\n",
       "      <th>7</th>\n",
       "      <td>Ftrl</td>\n",
       "      <td>2.302551</td>\n",
       "      <td>0.100000</td>\n",
       "      <td>2.302550</td>\n",
       "      <td>0.1000</td>\n",
       "    </tr>\n",
       "  </tbody>\n",
       "</table>\n",
       "</div>"
      ],
      "text/plain": [
       "  optimizer  train_loss  train_accuracy  test_loss  test_accuracy\n",
       "2      Adam    0.264361        0.903750   0.342344         0.8772\n",
       "6     Nadam    0.290486        0.891350   0.371544         0.8655\n",
       "5    Adamax    0.323624        0.884767   0.381149         0.8641\n",
       "1   RMSprop    0.307876        0.883867   0.381578         0.8594\n",
       "0       SGD    0.443291        0.843700   0.477039         0.8330\n",
       "4   Adagrad    0.551882        0.814100   0.576113         0.8046\n",
       "3  Adadelta    1.306314        0.614733   1.313165         0.6096\n",
       "7      Ftrl    2.302551        0.100000   2.302550         0.1000"
      ]
     },
     "execution_count": 116,
     "metadata": {},
     "output_type": "execute_result"
    }
   ],
   "source": [
    "different_optimizers_result_df.sort_values('test_accuracy', ascending=False)"
   ]
  },
  {
   "cell_type": "code",
   "execution_count": 121,
   "id": "2376dfad",
   "metadata": {},
   "outputs": [
    {
     "data": {
      "image/png": "[encoded data removed]",
      "text/plain": [
       "<Figure size 1600x500 with 1 Axes>"
      ]
     },
     "metadata": {},
     "output_type": "display_data"
    }
   ],
   "source": [
    "plt.figure(figsize=(16, 5))\n",
    "plt.bar(different_optimizers_result_df['optimizer'], different_optimizers_result_df['train_accuracy'], label='train')\n",
    "plt.bar(different_optimizers_result_df['optimizer'], different_optimizers_result_df['test_accuracy'], label='test')\n",
    "plt.legend()\n",
    "plt.show()"
   ]
  },
  {
   "cell_type": "markdown",
   "id": "fa74272c",
   "metadata": {},
   "source": [
    "Оптимизатор Adam показывает лучшие результаты"
   ]
  },
  {
   "cell_type": "code",
   "execution_count": 122,
   "id": "21fabbaa",
   "metadata": {},
   "outputs": [],
   "source": [
    "final_model = Sequential([\n",
    "        Dense(98, input_shape=(784,), activation='selu'),\n",
    "        Dense(64, activation='selu'),\n",
    "        Dense(10, activation='sigmoid')\n",
    "    ])\n",
    "\n",
    "final_model.compile(loss='categorical_crossentropy', optimizer='Adam', metrics=['accuracy'])\n",
    "variant = final_model.fit(X_train, y_train,\n",
    "            epochs=10,  \n",
    "            batch_size=256,\n",
    "            verbose=0,\n",
    "            validation_data=(X_test, y_test)\n",
    "            )"
   ]
  },
  {
   "cell_type": "code",
   "execution_count": 124,
   "id": "29e14378",
   "metadata": {},
   "outputs": [
    {
     "data": {
      "text/plain": [
       "{'name': 'Adam',\n",
       " 'learning_rate': 0.001,\n",
       " 'decay': 0.0,\n",
       " 'beta_1': 0.9,\n",
       " 'beta_2': 0.999,\n",
       " 'epsilon': 1e-07,\n",
       " 'amsgrad': False}"
      ]
     },
     "execution_count": 124,
     "metadata": {},
     "output_type": "execute_result"
    }
   ],
   "source": [
    "final_model.optimizer.get_config()"
   ]
  },
  {
   "cell_type": "code",
   "execution_count": 128,
   "id": "ed3c09ed",
   "metadata": {},
   "outputs": [
    {
     "name": "stdout",
     "output_type": "stream",
     "text": [
      "1/1 [==============================] - 0s 46ms/step\n"
     ]
    },
    {
     "data": {
      "image/png": "[encoded data removed]",
      "text/plain": [
       "<Figure size 1500x500 with 5 Axes>"
      ]
     },
     "metadata": {},
     "output_type": "display_data"
    }
   ],
   "source": [
    "N = 5\n",
    "y_pred = final_model.predict(X_test[:N, :])\n",
    "y_pred_class = np.argmax(y_pred, axis=1)\n",
    "plt.figure(figsize=(3 * N, 5))\n",
    "\n",
    "for i in range(N):\n",
    "  plt.subplot(1, N, i+1)\n",
    "  plt.imshow(X_test[i,:].reshape(28, 28))\n",
    "  #plt.xlabel(str(y_pred_class[i]))\n",
    "  plt.xlabel(str(y_test_labels[i]))\n",
    "plt.show() "
   ]
  },
  {
   "cell_type": "code",
   "execution_count": 129,
   "id": "7b61288f",
   "metadata": {},
   "outputs": [
    {
     "data": {
      "text/plain": [
       "array([9, 2, 1, 1, 6], dtype=int64)"
      ]
     },
     "execution_count": 129,
     "metadata": {},
     "output_type": "execute_result"
    }
   ],
   "source": [
    "y_pred_class"
   ]
  },
  {
   "cell_type": "code",
   "execution_count": 131,
   "id": "27c77ef2",
   "metadata": {},
   "outputs": [
    {
     "name": "stdout",
     "output_type": "stream",
     "text": [
      "313/313 [==============================] - 1s 3ms/step\n"
     ]
    }
   ],
   "source": [
    "y_pred = final_model.predict(X_test)\n",
    "y_pred_class = np.argmax(y_pred, axis=1)"
   ]
  },
  {
   "cell_type": "code",
   "execution_count": 134,
   "id": "3eb5c405",
   "metadata": {},
   "outputs": [],
   "source": [
    "def plot_confusion_matrix(cm, classes,\n",
    "                          normalize=False,\n",
    "                          title='Confusion matrix',\n",
    "                          cmap=plt.cm.Blues):\n",
    "    \"\"\"\n",
    "    This function prints and plots the confusion matrix.\n",
    "    Normalization can be applied by setting `normalize=True`.\n",
    "    \"\"\"\n",
    "    plt.imshow(cm, interpolation='nearest', cmap=cmap)\n",
    "    plt.title(title)\n",
    "    plt.colorbar()\n",
    "    tick_marks = np.arange(len(classes))\n",
    "    plt.xticks(tick_marks, classes, rotation=45)\n",
    "    plt.yticks(tick_marks, classes)\n",
    "\n",
    "    if normalize:\n",
    "        cm = cm.astype('float') / cm.sum(axis=1)[:, np.newaxis]\n",
    "        print(\"Normalized confusion matrix\")\n",
    "    else:\n",
    "        print('Confusion matrix, without normalization')\n",
    "\n",
    "    #print(cm)\n",
    "\n",
    "    thresh = cm.max() / 2.\n",
    "    for i, j in itertools.product(range(cm.shape[0]), range(cm.shape[1])):\n",
    "        plt.text(j, i, cm[i, j],\n",
    "                 horizontalalignment=\"center\",\n",
    "                 color=\"white\" if cm[i, j] > thresh else \"black\")\n",
    "\n",
    "    plt.tight_layout()\n",
    "    plt.ylabel('True label')\n",
    "    plt.xlabel('Predicted label')"
   ]
  },
  {
   "cell_type": "code",
   "execution_count": 136,
   "id": "b662cd0c",
   "metadata": {},
   "outputs": [
    {
     "name": "stdout",
     "output_type": "stream",
     "text": [
      "Confusion matrix, without normalization\n"
     ]
    },
    {
     "data": {
      "image/png": "[encoded data removed]",
      "text/plain": [
       "<Figure size 800x600 with 2 Axes>"
      ]
     },
     "metadata": {},
     "output_type": "display_data"
    }
   ],
   "source": [
    "font = {'size' : 15}\n",
    "\n",
    "plt.rc('font', **font)\n",
    "\n",
    "cnf_matrix = confusion_matrix(y_test_labels, y_pred_class)\n",
    "plt.figure(figsize=(8, 6))\n",
    "plot_confusion_matrix(cnf_matrix, classes=['0', '1', '2', '3', '4', '5', '6', '7', '8', '9'],\n",
    "                      title='Confusion matrix', normalize=False)\n",
    "plt.show()"
   ]
  },
  {
   "cell_type": "code",
   "execution_count": 137,
   "id": "6bf97355",
   "metadata": {},
   "outputs": [],
   "source": [
    "ind = []\n",
    "for i in range(10):\n",
    "    ind.append(np.where(y_test_labels == i)[0][0])"
   ]
  },
  {
   "cell_type": "code",
   "execution_count": 140,
   "id": "1541db0e",
   "metadata": {},
   "outputs": [
    {
     "data": {
      "image/png": "[encoded data removed]",
      "text/plain": [
       "<Figure size 3000x500 with 10 Axes>"
      ]
     },
     "metadata": {},
     "output_type": "display_data"
    }
   ],
   "source": [
    "plt.figure(figsize=(3 * 10, 5))\n",
    "k = 0\n",
    "for i in ind:\n",
    "    plt.subplot(1, 10, k+1)\n",
    "    k+=1\n",
    "    plt.imshow(X_test[i,:].reshape(28, 28))\n",
    "    plt.xlabel('true: ' + str([y_test_labels[i]]) + '\\n \\n pred: ' + str([y_pred_class[i]]))\n",
    "\n",
    "plt.show() "
   ]
  },
  {
   "cell_type": "markdown",
   "id": "ea694991",
   "metadata": {},
   "source": [
    "Модель чаще всего путает 0, 2, 3 и 4 классы с 6"
   ]
  },
  {
   "cell_type": "code",
   "execution_count": null,
   "id": "809e613b",
   "metadata": {},
   "outputs": [],
   "source": []
  }
 ],
 "metadata": {
  "kernelspec": {
   "display_name": "ML_kernel",
   "language": "python",
   "name": "ml_kernel"
  },
  "language_info": {
   "codemirror_mode": {
    "name": "ipython",
    "version": 3
   },
   "file_extension": ".py",
   "mimetype": "text/x-python",
   "name": "python",
   "nbconvert_exporter": "python",
   "pygments_lexer": "ipython3",
   "version": "3.10.11"
  }
 },
 "nbformat": 4,
 "nbformat_minor": 5
}
