{
 "cells": [
  {
   "cell_type": "markdown",
   "id": "70d2cdc3",
   "metadata": {},
   "source": [
    "Попробовать улучшить точность распознования образов cifar 10 сверточной нейронной сетью, рассмотренной на уроке. Приложить анализ с описанием того, что улучшает работу нейронной сети и что ухудшает."
   ]
  },
  {
   "cell_type": "code",
   "execution_count": 1,
   "id": "46302612",
   "metadata": {},
   "outputs": [],
   "source": [
    "import numpy as np\n",
    "import pandas as pd\n",
    "import tensorflow as tf\n",
    "import matplotlib.pyplot as plt\n",
    "\n",
    "from tensorflow.keras.models import Sequential, Model\n",
    "from tensorflow.keras.layers import Conv2D, Input\n",
    "from tensorflow.keras.layers import GlobalMaxPooling2D, MaxPooling2D, AveragePooling2D, GlobalAveragePooling2D\n",
    "from tensorflow.keras.datasets import cifar10\n",
    "from tensorflow.keras.preprocessing.image import ImageDataGenerator\n",
    "from tensorflow.keras.utils import to_categorical\n",
    "from tensorflow.keras.layers import Dense, Dropout, Activation, Flatten"
   ]
  },
  {
   "cell_type": "code",
   "execution_count": 2,
   "id": "32d0ab65",
   "metadata": {},
   "outputs": [],
   "source": [
    "tf.config.threading.set_inter_op_parallelism_threads(0)"
   ]
  },
  {
   "cell_type": "code",
   "execution_count": 3,
   "id": "73ba9890",
   "metadata": {},
   "outputs": [],
   "source": [
    "tf.random.set_seed(42)"
   ]
  },
  {
   "cell_type": "code",
   "execution_count": 4,
   "id": "c82d137a",
   "metadata": {},
   "outputs": [],
   "source": [
    "batch_size = 2048\n",
    "num_classes = 10\n",
    "epochs = 10"
   ]
  },
  {
   "cell_type": "code",
   "execution_count": 5,
   "id": "858760c3",
   "metadata": {},
   "outputs": [],
   "source": [
    "(X_train, y_train), (X_test, y_test) = cifar10.load_data()"
   ]
  },
  {
   "cell_type": "code",
   "execution_count": 6,
   "id": "f1fc9cd9",
   "metadata": {},
   "outputs": [
    {
     "data": {
      "text/plain": [
       "(50000, 32, 32, 3)"
      ]
     },
     "execution_count": 6,
     "metadata": {},
     "output_type": "execute_result"
    }
   ],
   "source": [
    "X_train.shape"
   ]
  },
  {
   "cell_type": "code",
   "execution_count": 7,
   "id": "8dd72b50",
   "metadata": {},
   "outputs": [
    {
     "data": {
      "text/plain": [
       "(10000, 32, 32, 3)"
      ]
     },
     "execution_count": 7,
     "metadata": {},
     "output_type": "execute_result"
    }
   ],
   "source": [
    "X_test.shape"
   ]
  },
  {
   "cell_type": "code",
   "execution_count": 8,
   "id": "d93376fc",
   "metadata": {},
   "outputs": [
    {
     "name": "stdout",
     "output_type": "stream",
     "text": [
      "Количество обучающих примеров: 50000\n",
      "Количество тестовых примеров: 10000\n",
      "Количество обучающих меток классов 50000\n",
      "Количество тестовых меток классов 10000\n"
     ]
    }
   ],
   "source": [
    "print(f'Количество обучающих примеров: {X_train.shape[0]}\\n\\\n",
    "Количество тестовых примеров: {X_test.shape[0]}\\n\\\n",
    "Количество обучающих меток классов {y_train.shape[0]}\\n\\\n",
    "Количество тестовых меток классов {y_test.shape[0]}')"
   ]
  },
  {
   "cell_type": "code",
   "execution_count": 9,
   "id": "7d9cd438",
   "metadata": {},
   "outputs": [
    {
     "data": {
      "text/plain": [
       "array([[6],\n",
       "       [9],\n",
       "       [9],\n",
       "       [4],\n",
       "       [1]], dtype=uint8)"
      ]
     },
     "execution_count": 9,
     "metadata": {},
     "output_type": "execute_result"
    }
   ],
   "source": [
    "y_train[:5]"
   ]
  },
  {
   "cell_type": "code",
   "execution_count": 10,
   "id": "cab603d6",
   "metadata": {},
   "outputs": [],
   "source": [
    "y_train = to_categorical(y_train, num_classes=10)\n",
    "y_test = to_categorical(y_test, num_classes=10)"
   ]
  },
  {
   "cell_type": "code",
   "execution_count": 11,
   "id": "5d1c5b10",
   "metadata": {},
   "outputs": [],
   "source": [
    "X_train = X_train.astype('float32') / 256\n",
    "X_test = X_test.astype('float32') / 256"
   ]
  },
  {
   "cell_type": "code",
   "execution_count": 12,
   "id": "1afbe9ef",
   "metadata": {},
   "outputs": [],
   "source": [
    "classes = ['самолет', 'автомобиль', 'птица', 'кот', 'олень', 'собака', 'лягушка', 'лошадь', 'корабль', 'грузовик']"
   ]
  },
  {
   "cell_type": "code",
   "execution_count": 13,
   "id": "360b8923",
   "metadata": {},
   "outputs": [
    {
     "data": {
      "image/png": "[encoded data removed]",
      "text/plain": [
       "<Figure size 640x480 with 1 Axes>"
      ]
     },
     "metadata": {},
     "output_type": "display_data"
    }
   ],
   "source": [
    "N = 42\n",
    "\n",
    "plt.imshow(X_test[N])\n",
    "plt.title(classes[np.argmax(y_test[N,:])])\n",
    "plt.show()"
   ]
  },
  {
   "cell_type": "code",
   "execution_count": 14,
   "id": "098ed644",
   "metadata": {},
   "outputs": [],
   "source": [
    "def generate_model():\n",
    "    return Sequential([\n",
    "        Conv2D(32, (3, 3), padding='same', input_shape=X_train.shape[1:]),\n",
    "        Activation('relu'),\n",
    "        Conv2D(32, (3, 3)),\n",
    "        Activation('relu'),\n",
    "        MaxPooling2D(pool_size=(2, 2)),\n",
    "        Dropout(0.25),\n",
    "\n",
    "        Conv2D(64, (3, 3), padding='same'),\n",
    "        Activation('relu'),\n",
    "        Conv2D(64, (3, 3)),\n",
    "        Activation('relu'),\n",
    "        MaxPooling2D(pool_size=(2, 2)),\n",
    "        Dropout(0.25),\n",
    "\n",
    "        Flatten(),\n",
    "        Dense(512),\n",
    "        Activation('relu'),\n",
    "        Dropout(0.5),\n",
    "        Dense(10),\n",
    "        Activation('softmax')\n",
    "      ])\n",
    "\n",
    "model = generate_model()"
   ]
  },
  {
   "cell_type": "code",
   "execution_count": 15,
   "id": "9786ae47",
   "metadata": {},
   "outputs": [],
   "source": [
    "def compile_model(model):\n",
    "    opt = tf.keras.optimizers.RMSprop(learning_rate=0.0001, decay=1e-6)\n",
    "    model.compile(loss='categorical_crossentropy',\n",
    "                  optimizer=opt,\n",
    "                  metrics=['accuracy'])\n",
    "    return model\n",
    "\n",
    "model = compile_model(model)"
   ]
  },
  {
   "cell_type": "code",
   "execution_count": 16,
   "id": "48371a85",
   "metadata": {},
   "outputs": [
    {
     "name": "stdout",
     "output_type": "stream",
     "text": [
      "Model: \"sequential\"\n",
      "_________________________________________________________________\n",
      " Layer (type)                Output Shape              Param #   \n",
      "=================================================================\n",
      " conv2d (Conv2D)             (None, 32, 32, 32)        896       \n",
      "                                                                 \n",
      " activation (Activation)     (None, 32, 32, 32)        0         \n",
      "                                                                 \n",
      " conv2d_1 (Conv2D)           (None, 30, 30, 32)        9248      \n",
      "                                                                 \n",
      " activation_1 (Activation)   (None, 30, 30, 32)        0         \n",
      "                                                                 \n",
      " max_pooling2d (MaxPooling2D  (None, 15, 15, 32)       0         \n",
      " )                                                               \n",
      "                                                                 \n",
      " dropout (Dropout)           (None, 15, 15, 32)        0         \n",
      "                                                                 \n",
      " conv2d_2 (Conv2D)           (None, 15, 15, 64)        18496     \n",
      "                                                                 \n",
      " activation_2 (Activation)   (None, 15, 15, 64)        0         \n",
      "                                                                 \n",
      " conv2d_3 (Conv2D)           (None, 13, 13, 64)        36928     \n",
      "                                                                 \n",
      " activation_3 (Activation)   (None, 13, 13, 64)        0         \n",
      "                                                                 \n",
      " max_pooling2d_1 (MaxPooling  (None, 6, 6, 64)         0         \n",
      " 2D)                                                             \n",
      "                                                                 \n",
      " dropout_1 (Dropout)         (None, 6, 6, 64)          0         \n",
      "                                                                 \n",
      " flatten (Flatten)           (None, 2304)              0         \n",
      "                                                                 \n",
      " dense (Dense)               (None, 512)               1180160   \n",
      "                                                                 \n",
      " activation_4 (Activation)   (None, 512)               0         \n",
      "                                                                 \n",
      " dropout_2 (Dropout)         (None, 512)               0         \n",
      "                                                                 \n",
      " dense_1 (Dense)             (None, 10)                5130      \n",
      "                                                                 \n",
      " activation_5 (Activation)   (None, 10)                0         \n",
      "                                                                 \n",
      "=================================================================\n",
      "Total params: 1,250,858\n",
      "Trainable params: 1,250,858\n",
      "Non-trainable params: 0\n",
      "_________________________________________________________________\n"
     ]
    }
   ],
   "source": [
    "model.summary()"
   ]
  },
  {
   "cell_type": "code",
   "execution_count": 17,
   "id": "07c894d6",
   "metadata": {},
   "outputs": [
    {
     "name": "stdout",
     "output_type": "stream",
     "text": [
      "Epoch 1/10\n",
      "25/25 [==============================] - 125s 5s/step - loss: 2.2215 - accuracy: 0.1667 - val_loss: 2.1077 - val_accuracy: 0.2569\n",
      "Epoch 2/10\n",
      "25/25 [==============================] - 123s 5s/step - loss: 2.0698 - accuracy: 0.2372 - val_loss: 2.0036 - val_accuracy: 0.2846\n",
      "Epoch 3/10\n",
      "25/25 [==============================] - 121s 5s/step - loss: 1.9820 - accuracy: 0.2780 - val_loss: 1.9367 - val_accuracy: 0.3142\n",
      "Epoch 4/10\n",
      "25/25 [==============================] - 116s 5s/step - loss: 1.9158 - accuracy: 0.3074 - val_loss: 1.8947 - val_accuracy: 0.3331\n",
      "Epoch 5/10\n",
      "25/25 [==============================] - 103s 4s/step - loss: 1.8634 - accuracy: 0.3304 - val_loss: 1.8014 - val_accuracy: 0.3724\n",
      "Epoch 6/10\n",
      "25/25 [==============================] - 77s 3s/step - loss: 1.8275 - accuracy: 0.3431 - val_loss: 1.7653 - val_accuracy: 0.3850\n",
      "Epoch 7/10\n",
      "25/25 [==============================] - 81s 3s/step - loss: 1.7870 - accuracy: 0.3575 - val_loss: 1.7417 - val_accuracy: 0.3868\n",
      "Epoch 8/10\n",
      "25/25 [==============================] - 77s 3s/step - loss: 1.7699 - accuracy: 0.3645 - val_loss: 1.7385 - val_accuracy: 0.3857\n",
      "Epoch 9/10\n",
      "25/25 [==============================] - 78s 3s/step - loss: 1.7369 - accuracy: 0.3767 - val_loss: 1.6767 - val_accuracy: 0.4105\n",
      "Epoch 10/10\n",
      "25/25 [==============================] - 76s 3s/step - loss: 1.7145 - accuracy: 0.3844 - val_loss: 1.6534 - val_accuracy: 0.4174\n"
     ]
    },
    {
     "data": {
      "text/plain": [
       "<keras.callbacks.History at 0x20a4759bdc0>"
      ]
     },
     "execution_count": 17,
     "metadata": {},
     "output_type": "execute_result"
    }
   ],
   "source": [
    "model.fit(X_train, y_train,\n",
    "         batch_size=batch_size,\n",
    "         epochs=epochs,\n",
    "         validation_data=(X_test, y_test),\n",
    "         shuffle=True)"
   ]
  },
  {
   "cell_type": "code",
   "execution_count": 18,
   "id": "f72f774a",
   "metadata": {},
   "outputs": [
    {
     "name": "stdout",
     "output_type": "stream",
     "text": [
      "1563/1563 [==============================] - 43s 27ms/step - loss: 1.6547 - accuracy: 0.4158\n",
      "313/313 [==============================] - 8s 26ms/step - loss: 1.6534 - accuracy: 0.4174\n"
     ]
    }
   ],
   "source": [
    "train_acc, test_acc = model.evaluate(X_train, y_train)[1], model.evaluate(X_test, y_test)[1]"
   ]
  },
  {
   "cell_type": "code",
   "execution_count": 19,
   "id": "b0f024e7",
   "metadata": {},
   "outputs": [
    {
     "data": {
      "text/plain": [
       "(0.4158399999141693, 0.4174000024795532)"
      ]
     },
     "execution_count": 19,
     "metadata": {},
     "output_type": "execute_result"
    }
   ],
   "source": [
    "train_acc, test_acc"
   ]
  },
  {
   "cell_type": "code",
   "execution_count": 20,
   "id": "13a4744e",
   "metadata": {},
   "outputs": [],
   "source": [
    "result_dict = {'variant': [], 'train_acc': [], 'test_acc': []}"
   ]
  },
  {
   "cell_type": "code",
   "execution_count": 21,
   "id": "ac6433f3",
   "metadata": {},
   "outputs": [],
   "source": [
    "result_dict['variant'].append('Базовый случай')\n",
    "result_dict['train_acc'].append(f'{train_acc:.4f}')\n",
    "result_dict['test_acc'].append(f'{test_acc:.4f}')"
   ]
  },
  {
   "cell_type": "code",
   "execution_count": 22,
   "id": "cdf043a2",
   "metadata": {},
   "outputs": [
    {
     "data": {
      "text/plain": [
       "{'variant': ['Базовый случай'],\n",
       " 'train_acc': ['0.4158'],\n",
       " 'test_acc': ['0.4174']}"
      ]
     },
     "execution_count": 22,
     "metadata": {},
     "output_type": "execute_result"
    }
   ],
   "source": [
    "result_dict"
   ]
  },
  {
   "cell_type": "markdown",
   "id": "ccb48a3f",
   "metadata": {},
   "source": [
    "### Вариант \"Больше фильтров\""
   ]
  },
  {
   "cell_type": "code",
   "execution_count": 23,
   "id": "f6d709ee",
   "metadata": {},
   "outputs": [],
   "source": [
    "model2 = Sequential([\n",
    "        Conv2D(32, (3, 3), padding='same', input_shape=X_train.shape[1:]),\n",
    "        Activation('relu'),\n",
    "        Conv2D(32, (3, 3)),\n",
    "        Activation('relu'),\n",
    "        MaxPooling2D(pool_size=(2, 2)),\n",
    "        Dropout(0.25),\n",
    "\n",
    "        Conv2D(64, (3, 3), padding='same'),\n",
    "        Activation('relu'),\n",
    "        Conv2D(64, (3, 3)),\n",
    "        Activation('relu'),\n",
    "        MaxPooling2D(pool_size=(2, 2)),\n",
    "        Dropout(0.25),\n",
    "    \n",
    "        Conv2D(128, (3, 3), padding='same'),\n",
    "        Activation('relu'),\n",
    "        Conv2D(128, (3, 3)),\n",
    "        Activation('relu'),\n",
    "        MaxPooling2D(pool_size=(2, 2)),\n",
    "        Dropout(0.25),\n",
    "\n",
    "        Flatten(),\n",
    "        Dense(512),\n",
    "        Activation('relu'),\n",
    "        Dropout(0.5),\n",
    "        Dense(10),\n",
    "        Activation('softmax')\n",
    "      ])"
   ]
  },
  {
   "cell_type": "code",
   "execution_count": 24,
   "id": "881eaeba",
   "metadata": {},
   "outputs": [],
   "source": [
    "model2 = compile_model(model2)"
   ]
  },
  {
   "cell_type": "code",
   "execution_count": 25,
   "id": "d760f173",
   "metadata": {},
   "outputs": [
    {
     "name": "stdout",
     "output_type": "stream",
     "text": [
      "Epoch 1/10\n",
      "25/25 [==============================] - 148s 6s/step - loss: 2.2812 - accuracy: 0.1174 - val_loss: 2.2261 - val_accuracy: 0.1528\n",
      "Epoch 2/10\n",
      "25/25 [==============================] - 121s 5s/step - loss: 2.1668 - accuracy: 0.1882 - val_loss: 2.0798 - val_accuracy: 0.2452\n",
      "Epoch 3/10\n",
      "25/25 [==============================] - 94s 4s/step - loss: 2.0841 - accuracy: 0.2189 - val_loss: 2.0502 - val_accuracy: 0.2468\n",
      "Epoch 4/10\n",
      "25/25 [==============================] - 97s 4s/step - loss: 2.0506 - accuracy: 0.2314 - val_loss: 1.9904 - val_accuracy: 0.2737\n",
      "Epoch 5/10\n",
      "25/25 [==============================] - 95s 4s/step - loss: 2.0035 - accuracy: 0.2545 - val_loss: 1.9656 - val_accuracy: 0.2802\n",
      "Epoch 6/10\n",
      "25/25 [==============================] - 92s 4s/step - loss: 1.9610 - accuracy: 0.2733 - val_loss: 1.9444 - val_accuracy: 0.2828\n",
      "Epoch 7/10\n",
      "25/25 [==============================] - 90s 4s/step - loss: 1.9308 - accuracy: 0.2841 - val_loss: 1.8767 - val_accuracy: 0.3237\n",
      "Epoch 8/10\n",
      "25/25 [==============================] - 100s 4s/step - loss: 1.9095 - accuracy: 0.2945 - val_loss: 1.8640 - val_accuracy: 0.3309\n",
      "Epoch 9/10\n",
      "25/25 [==============================] - 95s 4s/step - loss: 1.8785 - accuracy: 0.3036 - val_loss: 1.9517 - val_accuracy: 0.2899\n",
      "Epoch 10/10\n",
      "25/25 [==============================] - 103s 4s/step - loss: 1.8698 - accuracy: 0.3113 - val_loss: 1.8388 - val_accuracy: 0.3364\n"
     ]
    },
    {
     "data": {
      "text/plain": [
       "<keras.callbacks.History at 0x20a4fdf9c00>"
      ]
     },
     "execution_count": 25,
     "metadata": {},
     "output_type": "execute_result"
    }
   ],
   "source": [
    "model2.fit(X_train, y_train,\n",
    "         batch_size=batch_size,\n",
    "         epochs=epochs,\n",
    "         validation_data=(X_test, y_test),\n",
    "         shuffle=True)"
   ]
  },
  {
   "cell_type": "code",
   "execution_count": 26,
   "id": "f380aab9",
   "metadata": {},
   "outputs": [],
   "source": [
    "def update_result_dict(model, name):\n",
    "    train_acc, test_acc = model.evaluate(X_train, y_train)[1], model.evaluate(X_test, y_test)[1]\n",
    "    result_dict['variant'].append(name)\n",
    "    result_dict['train_acc'].append(f'{train_acc:.4f}')\n",
    "    result_dict['test_acc'].append(f'{test_acc:.4f}')    "
   ]
  },
  {
   "cell_type": "code",
   "execution_count": 27,
   "id": "b533e65f",
   "metadata": {},
   "outputs": [
    {
     "name": "stdout",
     "output_type": "stream",
     "text": [
      "1563/1563 [==============================] - 34s 22ms/step - loss: 1.8407 - accuracy: 0.3345\n",
      "313/313 [==============================] - 7s 22ms/step - loss: 1.8388 - accuracy: 0.3364\n"
     ]
    }
   ],
   "source": [
    "update_result_dict(model2, 'Больше фильтров')"
   ]
  },
  {
   "cell_type": "markdown",
   "id": "1c918078",
   "metadata": {},
   "source": [
    "### Вариант \"больше полносвязных скрытых слоев\""
   ]
  },
  {
   "cell_type": "code",
   "execution_count": 28,
   "id": "139528dd",
   "metadata": {},
   "outputs": [],
   "source": [
    "model3 = Sequential([\n",
    "        Conv2D(32, (3, 3), padding='same', input_shape=X_train.shape[1:]),\n",
    "        Activation('relu'),\n",
    "        Conv2D(32, (3, 3)),\n",
    "        Activation('relu'),\n",
    "        MaxPooling2D(pool_size=(2, 2)),\n",
    "        Dropout(0.25),\n",
    "\n",
    "        Conv2D(64, (3, 3), padding='same'),\n",
    "        Activation('relu'),\n",
    "        Conv2D(64, (3, 3)),\n",
    "        Activation('relu'),\n",
    "        MaxPooling2D(pool_size=(2, 2)),\n",
    "        Dropout(0.25),\n",
    "\n",
    "        Flatten(),\n",
    "        Dense(512),\n",
    "        Activation('relu'),\n",
    "        Dropout(0.25),\n",
    "        Dense(256),\n",
    "        Activation('relu'),\n",
    "        Dropout(0.25),\n",
    "        Dense(128),\n",
    "        Activation('relu'),\n",
    "        Dropout(0.25),\n",
    "        Dense(64),\n",
    "        Activation('relu'),\n",
    "        Dropout(0.25),\n",
    "        Dense(10),\n",
    "        Activation('softmax')\n",
    "      ])"
   ]
  },
  {
   "cell_type": "code",
   "execution_count": 29,
   "id": "e64aaddb",
   "metadata": {},
   "outputs": [],
   "source": [
    "model3 = compile_model(model3)"
   ]
  },
  {
   "cell_type": "code",
   "execution_count": 30,
   "id": "657f895d",
   "metadata": {},
   "outputs": [
    {
     "name": "stdout",
     "output_type": "stream",
     "text": [
      "Model: \"sequential_2\"\n",
      "_________________________________________________________________\n",
      " Layer (type)                Output Shape              Param #   \n",
      "=================================================================\n",
      " conv2d_10 (Conv2D)          (None, 32, 32, 32)        896       \n",
      "                                                                 \n",
      " activation_14 (Activation)  (None, 32, 32, 32)        0         \n",
      "                                                                 \n",
      " conv2d_11 (Conv2D)          (None, 30, 30, 32)        9248      \n",
      "                                                                 \n",
      " activation_15 (Activation)  (None, 30, 30, 32)        0         \n",
      "                                                                 \n",
      " max_pooling2d_5 (MaxPooling  (None, 15, 15, 32)       0         \n",
      " 2D)                                                             \n",
      "                                                                 \n",
      " dropout_7 (Dropout)         (None, 15, 15, 32)        0         \n",
      "                                                                 \n",
      " conv2d_12 (Conv2D)          (None, 15, 15, 64)        18496     \n",
      "                                                                 \n",
      " activation_16 (Activation)  (None, 15, 15, 64)        0         \n",
      "                                                                 \n",
      " conv2d_13 (Conv2D)          (None, 13, 13, 64)        36928     \n",
      "                                                                 \n",
      " activation_17 (Activation)  (None, 13, 13, 64)        0         \n",
      "                                                                 \n",
      " max_pooling2d_6 (MaxPooling  (None, 6, 6, 64)         0         \n",
      " 2D)                                                             \n",
      "                                                                 \n",
      " dropout_8 (Dropout)         (None, 6, 6, 64)          0         \n",
      "                                                                 \n",
      " flatten_2 (Flatten)         (None, 2304)              0         \n",
      "                                                                 \n",
      " dense_4 (Dense)             (None, 512)               1180160   \n",
      "                                                                 \n",
      " activation_18 (Activation)  (None, 512)               0         \n",
      "                                                                 \n",
      " dropout_9 (Dropout)         (None, 512)               0         \n",
      "                                                                 \n",
      " dense_5 (Dense)             (None, 256)               131328    \n",
      "                                                                 \n",
      " activation_19 (Activation)  (None, 256)               0         \n",
      "                                                                 \n",
      " dropout_10 (Dropout)        (None, 256)               0         \n",
      "                                                                 \n",
      " dense_6 (Dense)             (None, 128)               32896     \n",
      "                                                                 \n",
      " activation_20 (Activation)  (None, 128)               0         \n",
      "                                                                 \n",
      " dropout_11 (Dropout)        (None, 128)               0         \n",
      "                                                                 \n",
      " dense_7 (Dense)             (None, 64)                8256      \n",
      "                                                                 \n",
      " activation_21 (Activation)  (None, 64)                0         \n",
      "                                                                 \n",
      " dropout_12 (Dropout)        (None, 64)                0         \n",
      "                                                                 \n",
      " dense_8 (Dense)             (None, 10)                650       \n",
      "                                                                 \n",
      " activation_22 (Activation)  (None, 10)                0         \n",
      "                                                                 \n",
      "=================================================================\n",
      "Total params: 1,418,858\n",
      "Trainable params: 1,418,858\n",
      "Non-trainable params: 0\n",
      "_________________________________________________________________\n"
     ]
    }
   ],
   "source": [
    "model3.summary()"
   ]
  },
  {
   "cell_type": "code",
   "execution_count": 31,
   "id": "c03d65b2",
   "metadata": {},
   "outputs": [
    {
     "data": {
      "text/plain": [
       "<keras.callbacks.History at 0x20a50354280>"
      ]
     },
     "execution_count": 31,
     "metadata": {},
     "output_type": "execute_result"
    }
   ],
   "source": [
    "model3.fit(X_train, y_train,\n",
    "           batch_size=batch_size,\n",
    "           epochs=epochs,\n",
    "           validation_data=(X_test, y_test),\n",
    "           verbose=0,\n",
    "           shuffle=True)"
   ]
  },
  {
   "cell_type": "code",
   "execution_count": 32,
   "id": "736883f6",
   "metadata": {},
   "outputs": [
    {
     "name": "stdout",
     "output_type": "stream",
     "text": [
      "1563/1563 [==============================] - 49s 31ms/step - loss: 1.8319 - accuracy: 0.3450\n",
      "313/313 [==============================] - 7s 21ms/step - loss: 1.8254 - accuracy: 0.3579\n"
     ]
    }
   ],
   "source": [
    "update_result_dict(model3, 'Больше полносвязных слоёв')"
   ]
  },
  {
   "cell_type": "code",
   "execution_count": 33,
   "id": "3bbf3eb1",
   "metadata": {},
   "outputs": [
    {
     "data": {
      "text/plain": [
       "{'variant': ['Базовый случай', 'Больше фильтров', 'Больше полносвязных слоёв'],\n",
       " 'train_acc': ['0.4158', '0.3345', '0.3450'],\n",
       " 'test_acc': ['0.4174', '0.3364', '0.3579']}"
      ]
     },
     "execution_count": 33,
     "metadata": {},
     "output_type": "execute_result"
    }
   ],
   "source": [
    "result_dict"
   ]
  },
  {
   "cell_type": "markdown",
   "id": "8daace45",
   "metadata": {},
   "source": [
    "### Еще вариант \"больше свертков\", но не так много как в варианте №2"
   ]
  },
  {
   "cell_type": "code",
   "execution_count": 34,
   "id": "b7d948f9",
   "metadata": {},
   "outputs": [
    {
     "name": "stdout",
     "output_type": "stream",
     "text": [
      "1563/1563 [==============================] - 99s 63ms/step - loss: 1.5426 - accuracy: 0.4579\n",
      "313/313 [==============================] - 20s 64ms/step - loss: 1.5446 - accuracy: 0.4572\n"
     ]
    }
   ],
   "source": [
    "model4 = Sequential([\n",
    "        Conv2D(32, (3, 3), padding='same', input_shape=X_train.shape[1:]),\n",
    "        Activation('relu'),\n",
    "        Conv2D(64, (3, 3)),\n",
    "        Activation('relu'),\n",
    "        MaxPooling2D(pool_size=(2, 2)),\n",
    "        Dropout(0.25),\n",
    "\n",
    "        Conv2D(128, (3, 3), padding='same'),\n",
    "        Activation('relu'),\n",
    "        Conv2D(256, (3, 3)),\n",
    "        Activation('relu'),\n",
    "        MaxPooling2D(pool_size=(2, 2)),\n",
    "        Dropout(0.25),\n",
    "\n",
    "        Flatten(),\n",
    "        Dense(512),\n",
    "        Activation('relu'),\n",
    "        Dropout(0.5),\n",
    "        Dense(10),\n",
    "        Activation('softmax')\n",
    "      ])\n",
    "\n",
    "model4 = compile_model(model4)\n",
    "\n",
    "model4.fit(X_train, y_train,\n",
    "           batch_size=batch_size,\n",
    "           epochs=epochs,\n",
    "           validation_data=(X_test, y_test),\n",
    "           verbose=0,\n",
    "           shuffle=True)\n",
    "\n",
    "update_result_dict(model4, 'Чуть больше полносвязных слоёв')"
   ]
  },
  {
   "cell_type": "code",
   "execution_count": 36,
   "id": "eb6dca69",
   "metadata": {},
   "outputs": [],
   "source": [
    "result_df = pd.DataFrame(result_dict)"
   ]
  },
  {
   "cell_type": "code",
   "execution_count": 38,
   "id": "9f136e9e",
   "metadata": {},
   "outputs": [
    {
     "data": {
      "text/html": [
       "<div>\n",
       "<style scoped>\n",
       "    .dataframe tbody tr th:only-of-type {\n",
       "        vertical-align: middle;\n",
       "    }\n",
       "\n",
       "    .dataframe tbody tr th {\n",
       "        vertical-align: top;\n",
       "    }\n",
       "\n",
       "    .dataframe thead th {\n",
       "        text-align: right;\n",
       "    }\n",
       "</style>\n",
       "<table border=\"1\" class=\"dataframe\">\n",
       "  <thead>\n",
       "    <tr style=\"text-align: right;\">\n",
       "      <th></th>\n",
       "      <th>variant</th>\n",
       "      <th>train_acc</th>\n",
       "      <th>test_acc</th>\n",
       "    </tr>\n",
       "  </thead>\n",
       "  <tbody>\n",
       "    <tr>\n",
       "      <th>3</th>\n",
       "      <td>Чуть больше полносвязных слоёв</td>\n",
       "      <td>0.4579</td>\n",
       "      <td>0.4572</td>\n",
       "    </tr>\n",
       "    <tr>\n",
       "      <th>0</th>\n",
       "      <td>Базовый случай</td>\n",
       "      <td>0.4158</td>\n",
       "      <td>0.4174</td>\n",
       "    </tr>\n",
       "    <tr>\n",
       "      <th>2</th>\n",
       "      <td>Больше полносвязных слоёв</td>\n",
       "      <td>0.3450</td>\n",
       "      <td>0.3579</td>\n",
       "    </tr>\n",
       "    <tr>\n",
       "      <th>1</th>\n",
       "      <td>Больше фильтров</td>\n",
       "      <td>0.3345</td>\n",
       "      <td>0.3364</td>\n",
       "    </tr>\n",
       "  </tbody>\n",
       "</table>\n",
       "</div>"
      ],
      "text/plain": [
       "                          variant train_acc test_acc\n",
       "3  Чуть больше полносвязных слоёв    0.4579   0.4572\n",
       "0                  Базовый случай    0.4158   0.4174\n",
       "2       Больше полносвязных слоёв    0.3450   0.3579\n",
       "1                 Больше фильтров    0.3345   0.3364"
      ]
     },
     "execution_count": 38,
     "metadata": {},
     "output_type": "execute_result"
    }
   ],
   "source": [
    "result_df.sort_values('test_acc', ascending=False)"
   ]
  },
  {
   "cell_type": "code",
   "execution_count": 48,
   "id": "623f3dea",
   "metadata": {},
   "outputs": [],
   "source": [
    "def pic_predict(model, number):\n",
    "    N = number\n",
    "    y_p = model.predict(X_test[N:N+1])\n",
    "    y_t = np.argmax(y_test[N:N+1], axis = 1 )\n",
    "    y_i = np.argmax(y_p, axis = 1 )\n",
    "    plt.imshow(X_test[N])\n",
    "    plt.title(f'это : {classes[y_t[0]]} - опознан как : {classes[y_i[0]]}')\n",
    "    plt.show()"
   ]
  },
  {
   "cell_type": "code",
   "execution_count": 49,
   "id": "5ce81cc1",
   "metadata": {
    "scrolled": false
   },
   "outputs": [
    {
     "name": "stdout",
     "output_type": "stream",
     "text": [
      "1/1 [==============================] - 0s 55ms/step\n"
     ]
    },
    {
     "data": {
      "image/png": "[encoded data removed]",
      "text/plain": [
       "<Figure size 640x480 with 1 Axes>"
      ]
     },
     "metadata": {},
     "output_type": "display_data"
    },
    {
     "name": "stdout",
     "output_type": "stream",
     "text": [
      "1/1 [==============================] - 0s 56ms/step\n"
     ]
    },
    {
     "data": {
      "image/png": "[encoded data removed]",
      "text/plain": [
       "<Figure size 640x480 with 1 Axes>"
      ]
     },
     "metadata": {},
     "output_type": "display_data"
    },
    {
     "name": "stdout",
     "output_type": "stream",
     "text": [
      "1/1 [==============================] - 0s 62ms/step\n"
     ]
    },
    {
     "data": {
      "image/png": "[encoded data removed]",
      "text/plain": [
       "<Figure size 640x480 with 1 Axes>"
      ]
     },
     "metadata": {},
     "output_type": "display_data"
    },
    {
     "name": "stdout",
     "output_type": "stream",
     "text": [
      "1/1 [==============================] - 0s 68ms/step\n"
     ]
    },
    {
     "data": {
      "image/png": "[encoded data removed]",
      "text/plain": [
       "<Figure size 640x480 with 1 Axes>"
      ]
     },
     "metadata": {},
     "output_type": "display_data"
    }
   ],
   "source": [
    "for model in [model, model2, model3, model4]:\n",
    "    pic_predict(model, 42)"
   ]
  },
  {
   "cell_type": "markdown",
   "id": "08e7af4b",
   "metadata": {},
   "source": [
    "Вывод можно сделать такой - увеличение количества свертков немного улучшает метрику accuracy, но не следует увлекаться - при пересечении порога от изначальной картинки ничего не останется при свертывании и accuracy станет падать в увеличением глубины сети. С полносвязными слоями примерно такая же логика. "
   ]
  },
  {
   "cell_type": "markdown",
   "id": "3c11c53d",
   "metadata": {},
   "source": [
    "Ради интереса попробую обучить с ImageDataGenerator самый удачный вариант"
   ]
  },
  {
   "cell_type": "code",
   "execution_count": 50,
   "id": "97a78595",
   "metadata": {},
   "outputs": [],
   "source": [
    "datagen = ImageDataGenerator(\n",
    "    featurewise_center=False,\n",
    "    samplewise_center=False,\n",
    "    featurewise_std_normalization=False,\n",
    "    samplewise_std_normalization=False,\n",
    "    zca_whitening=False, \n",
    "    zca_epsilon=1e-06, \n",
    "    rotation_range=0, \n",
    "    width_shift_range=0.1,\n",
    "    height_shift_range=0.1,\n",
    "    shear_range=0., \n",
    "    zoom_range=0., \n",
    "    channel_shift_range=0.,\n",
    "    fill_mode='nearest',\n",
    "    cval=0.,\n",
    "    horizontal_flip=True,\n",
    "    vertical_flip=False,\n",
    "    rescale=None,\n",
    "    preprocessing_function=None,\n",
    "    data_format=None,\n",
    "    validation_split=0.0)"
   ]
  },
  {
   "cell_type": "code",
   "execution_count": 51,
   "id": "05c0bfd8",
   "metadata": {},
   "outputs": [
    {
     "name": "stderr",
     "output_type": "stream",
     "text": [
      "C:\\Users\\edive\\AppData\\Local\\Temp\\ipykernel_5420\\4047353300.py:1: UserWarning: `Model.fit_generator` is deprecated and will be removed in a future version. Please use `Model.fit`, which supports generators.\n",
      "  model4.fit_generator(datagen.flow(X_train, y_train,\n"
     ]
    },
    {
     "name": "stdout",
     "output_type": "stream",
     "text": [
      "Epoch 1/10\n",
      "25/25 [==============================] - 322s 13s/step - loss: 1.6630 - accuracy: 0.4044 - val_loss: 1.5440 - val_accuracy: 0.4549\n",
      "Epoch 2/10\n",
      "25/25 [==============================] - 341s 14s/step - loss: 1.6410 - accuracy: 0.4116 - val_loss: 1.5211 - val_accuracy: 0.4578\n",
      "Epoch 3/10\n",
      "25/25 [==============================] - 339s 14s/step - loss: 1.6222 - accuracy: 0.4178 - val_loss: 1.5424 - val_accuracy: 0.4525\n",
      "Epoch 4/10\n",
      "25/25 [==============================] - 338s 14s/step - loss: 1.6087 - accuracy: 0.4252 - val_loss: 1.4590 - val_accuracy: 0.4911\n",
      "Epoch 5/10\n",
      "25/25 [==============================] - 304s 12s/step - loss: 1.5880 - accuracy: 0.4281 - val_loss: 1.4457 - val_accuracy: 0.4857\n",
      "Epoch 6/10\n",
      "25/25 [==============================] - 296s 12s/step - loss: 1.5789 - accuracy: 0.4349 - val_loss: 1.4237 - val_accuracy: 0.4969\n",
      "Epoch 7/10\n",
      "25/25 [==============================] - 302s 12s/step - loss: 1.5605 - accuracy: 0.4412 - val_loss: 1.4057 - val_accuracy: 0.4953\n",
      "Epoch 8/10\n",
      "25/25 [==============================] - 306s 12s/step - loss: 1.5478 - accuracy: 0.4473 - val_loss: 1.4515 - val_accuracy: 0.4712\n",
      "Epoch 9/10\n",
      "25/25 [==============================] - 300s 12s/step - loss: 1.5236 - accuracy: 0.4530 - val_loss: 1.4540 - val_accuracy: 0.4852\n",
      "Epoch 10/10\n",
      "25/25 [==============================] - 302s 12s/step - loss: 1.5279 - accuracy: 0.4548 - val_loss: 1.3689 - val_accuracy: 0.5121\n"
     ]
    },
    {
     "data": {
      "text/plain": [
       "<keras.callbacks.History at 0x20a65f72e00>"
      ]
     },
     "execution_count": 51,
     "metadata": {},
     "output_type": "execute_result"
    }
   ],
   "source": [
    "model4.fit_generator(datagen.flow(X_train, y_train,\n",
    "                                     batch_size=batch_size),\n",
    "                        epochs=epochs,\n",
    "                        validation_data=(X_test, y_test)\n",
    "                        )"
   ]
  },
  {
   "cell_type": "code",
   "execution_count": 52,
   "id": "7993a196",
   "metadata": {},
   "outputs": [
    {
     "name": "stdout",
     "output_type": "stream",
     "text": [
      "1563/1563 [==============================] - 95s 61ms/step - loss: 1.3658 - accuracy: 0.5186\n",
      "313/313 [==============================] - 19s 60ms/step - loss: 1.3689 - accuracy: 0.5121\n"
     ]
    }
   ],
   "source": [
    "update_result_dict(model4, 'data augmentation')"
   ]
  },
  {
   "cell_type": "code",
   "execution_count": 58,
   "id": "cc69e13f",
   "metadata": {},
   "outputs": [
    {
     "name": "stdout",
     "output_type": "stream",
     "text": [
      "1/1 [==============================] - 0s 33ms/step\n"
     ]
    },
    {
     "data": {
      "image/png": "[encoded data removed]",
      "text/plain": [
       "<Figure size 640x480 with 1 Axes>"
      ]
     },
     "metadata": {},
     "output_type": "display_data"
    }
   ],
   "source": [
    "pic_predict(model4, 41)"
   ]
  },
  {
   "cell_type": "code",
   "execution_count": 59,
   "id": "eb9d859f",
   "metadata": {},
   "outputs": [],
   "source": [
    "result_df = pd.DataFrame(result_dict)"
   ]
  },
  {
   "cell_type": "code",
   "execution_count": 60,
   "id": "fc9c87dc",
   "metadata": {},
   "outputs": [
    {
     "data": {
      "text/html": [
       "<div>\n",
       "<style scoped>\n",
       "    .dataframe tbody tr th:only-of-type {\n",
       "        vertical-align: middle;\n",
       "    }\n",
       "\n",
       "    .dataframe tbody tr th {\n",
       "        vertical-align: top;\n",
       "    }\n",
       "\n",
       "    .dataframe thead th {\n",
       "        text-align: right;\n",
       "    }\n",
       "</style>\n",
       "<table border=\"1\" class=\"dataframe\">\n",
       "  <thead>\n",
       "    <tr style=\"text-align: right;\">\n",
       "      <th></th>\n",
       "      <th>variant</th>\n",
       "      <th>train_acc</th>\n",
       "      <th>test_acc</th>\n",
       "    </tr>\n",
       "  </thead>\n",
       "  <tbody>\n",
       "    <tr>\n",
       "      <th>4</th>\n",
       "      <td>data augmentation</td>\n",
       "      <td>0.5186</td>\n",
       "      <td>0.5121</td>\n",
       "    </tr>\n",
       "    <tr>\n",
       "      <th>3</th>\n",
       "      <td>Чуть больше полносвязных слоёв</td>\n",
       "      <td>0.4579</td>\n",
       "      <td>0.4572</td>\n",
       "    </tr>\n",
       "    <tr>\n",
       "      <th>0</th>\n",
       "      <td>Базовый случай</td>\n",
       "      <td>0.4158</td>\n",
       "      <td>0.4174</td>\n",
       "    </tr>\n",
       "    <tr>\n",
       "      <th>2</th>\n",
       "      <td>Больше полносвязных слоёв</td>\n",
       "      <td>0.3450</td>\n",
       "      <td>0.3579</td>\n",
       "    </tr>\n",
       "    <tr>\n",
       "      <th>1</th>\n",
       "      <td>Больше фильтров</td>\n",
       "      <td>0.3345</td>\n",
       "      <td>0.3364</td>\n",
       "    </tr>\n",
       "  </tbody>\n",
       "</table>\n",
       "</div>"
      ],
      "text/plain": [
       "                          variant train_acc test_acc\n",
       "4               data augmentation    0.5186   0.5121\n",
       "3  Чуть больше полносвязных слоёв    0.4579   0.4572\n",
       "0                  Базовый случай    0.4158   0.4174\n",
       "2       Больше полносвязных слоёв    0.3450   0.3579\n",
       "1                 Больше фильтров    0.3345   0.3364"
      ]
     },
     "execution_count": 60,
     "metadata": {},
     "output_type": "execute_result"
    }
   ],
   "source": [
    "result_df.sort_values('test_acc', ascending=False)"
   ]
  },
  {
   "cell_type": "markdown",
   "id": "e56a3bf2",
   "metadata": {},
   "source": [
    "### Описать также в анализе какие необоходимо внести изменения в получившуюся у вас нейронную сеть если бы ей нужно было работать не с cifar10, а с MNIST, CIFAR100 и IMAGENET."
   ]
  },
  {
   "cell_type": "markdown",
   "id": "1d084f52",
   "metadata": {},
   "source": [
    "Ну как минимум input_shape поменять для mnist и imagenet. Плюс у CIFAR100 сто классов, у Imagenet вообще 21841 категория и 220000 классов, насколько я понял. Значит нужно сильно больше эпох, не помешает аугментация данных, дропауты, перекрестное обучение или предобучение "
   ]
  },
  {
   "cell_type": "code",
   "execution_count": null,
   "id": "9ca777d1",
   "metadata": {},
   "outputs": [],
   "source": []
  }
 ],
 "metadata": {
  "kernelspec": {
   "display_name": "ML_kernel",
   "language": "python",
   "name": "ml_kernel"
  },
  "language_info": {
   "codemirror_mode": {
    "name": "ipython",
    "version": 3
   },
   "file_extension": ".py",
   "mimetype": "text/x-python",
   "name": "python",
   "nbconvert_exporter": "python",
   "pygments_lexer": "ipython3",
   "version": "3.10.11"
  }
 },
 "nbformat": 4,
 "nbformat_minor": 5
}
